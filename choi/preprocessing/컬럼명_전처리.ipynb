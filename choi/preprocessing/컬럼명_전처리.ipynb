{
 "cells": [
  {
   "cell_type": "code",
   "execution_count": null,
   "id": "cc9362f4",
   "metadata": {},
   "outputs": [],
   "source": [
    "from IPython.display import display, HTML\n",
    "display(HTML(\"\"\"\n",
    "<style>\n",
    "div.container{width:100% !important;}\n",
    "div.cell.code_cell.rendered{width:100%;}\n",
    "div.cell.code_cell.unrendered{width:100%;}\n",
    "div.CodeMirror {font-family:Consolas; font-size:13pt;}\n",
    "div.output {font-size:13pt; font-weight:bold;}\n",
    "div.input {font-family:Consolas; font-size:13pt;}\n",
    "div.prompt {min-width:70px;}\n",
    "div#toc-wrapper{padding-top:120px;}\n",
    "span.toc-item-num{display:none;}\n",
    "div.text_cell_render ul li{font-size:18pt;padding:5px;}\n",
    "div.CodeMirror-lines > div {padding-left:10px;}\n",
    "</style>\n",
    "\"\"\"))"
   ]
  },
  {
   "cell_type": "code",
   "execution_count": null,
   "id": "c81f3f9d",
   "metadata": {},
   "outputs": [],
   "source": [
    "import pandas as pd\n",
    "traveller_master = pd.read_csv(\"../../data/tn_traveller_master_여행객 Master_B.csv\")\n",
    "visit_area_info = pd.read_csv(\"../../data/tn_visit_area_info_방문지정보_B.csv\", low_memory=False)\n",
    "pd.set_option('display.max_columns', None)\n",
    "pd.set_option('display.max_row', None)"
   ]
  },
  {
   "cell_type": "code",
   "execution_count": null,
   "id": "89812f83",
   "metadata": {},
   "outputs": [],
   "source": [
    "code_A= pd.read_csv(\"../../data/tc_codea_코드A.csv\")\n",
    "code_B= pd.read_csv(\"../../data/tc_codeb_코드B.csv\")"
   ]
  },
  {
   "cell_type": "code",
   "execution_count": null,
   "id": "728475d3",
   "metadata": {},
   "outputs": [],
   "source": [
    "code_A"
   ]
  },
  {
   "cell_type": "code",
   "execution_count": null,
   "id": "8ff73a7d",
   "metadata": {},
   "outputs": [],
   "source": [
    "def dic_map(table, code, col):\n",
    "    code_map = code_B[code_B['cd_a']== code][['cd_b', 'cd_nm']]\n",
    "    code_map['cd_b'] = code_map['cd_b'].astype(int)\n",
    "    code_dic = code_map.set_index('cd_b')['cd_nm'].to_dict()\n",
    "    table[col] = table[col].astype(\"Int64\").map(code_dic)\n",
    "    return table"
   ]
  },
  {
   "cell_type": "code",
   "execution_count": null,
   "id": "076c07f9",
   "metadata": {},
   "outputs": [],
   "source": [
    "code_B"
   ]
  },
  {
   "cell_type": "code",
   "execution_count": null,
   "id": "0ef10823",
   "metadata": {},
   "outputs": [],
   "source": [
    "traveller_master.head()"
   ]
  },
  {
   "cell_type": "code",
   "execution_count": null,
   "id": "c03c9bbf",
   "metadata": {},
   "outputs": [],
   "source": [
    "travel_m= dic_map(traveller_master,'EDU','EDU_NM')\n",
    "travel_m= dic_map(traveller_master,'EFS','EDU_FNSH_SE')\n",
    "travel_m= dic_map(traveller_master,'MAR','MARR_STTS')\n",
    "travel_m= dic_map(traveller_master,'JOB','JOB_NM')\n",
    "travel_m= dic_map(traveller_master,'JOE','JOB_ETC')\n",
    "travel_m= dic_map(traveller_master,'INC','INCOME')\n",
    "travel_m= dic_map(traveller_master,'TTM','TRAVEL_TERM')\n",
    "travel_m= dic_map(traveller_master,'TSY','TRAVEL_STYL_1')\n",
    "travel_m= dic_map(traveller_master,'TSY','TRAVEL_STYL_2')\n",
    "travel_m= dic_map(traveller_master,'TSY','TRAVEL_STYL_3')\n",
    "travel_m= dic_map(traveller_master,'TSY','TRAVEL_STYL_4')\n",
    "travel_m= dic_map(traveller_master,'TSY','TRAVEL_STYL_5')\n",
    "travel_m= dic_map(traveller_master,'TSY','TRAVEL_STYL_6')\n",
    "travel_m= dic_map(traveller_master,'TSY','TRAVEL_STYL_7')\n",
    "travel_m= dic_map(traveller_master,'TSY','TRAVEL_STYL_8')\n",
    "travel_m= dic_map(traveller_master,'TMT','TRAVEL_MOTIVE_1')\n",
    "travel_m= dic_map(traveller_master,'TMT','TRAVEL_MOTIVE_2')\n",
    "travel_m= dic_map(traveller_master,'TMT','TRAVEL_MOTIVE_3')\n",
    "\n"
   ]
  },
  {
   "cell_type": "code",
   "execution_count": null,
   "id": "d7e1dde7",
   "metadata": {},
   "outputs": [],
   "source": [
    "travel_m.head()"
   ]
  },
  {
   "cell_type": "code",
   "execution_count": null,
   "id": "bd43fe51",
   "metadata": {},
   "outputs": [],
   "source": [
    "columns_master = {\n",
    "    \"TRAVELER_ID\": \"여행객ID\",\n",
    "    \"RESIDENCE_SGG_CD\": \"거주시군구코드\",\n",
    "    \"GENDER\": \"성별\",\n",
    "    \"AGE_GRP\": \"연령대\",\n",
    "    \"EDU_NM\": \"최종학력명\",\n",
    "    \"EDU_FNSH_SE\": \"최종학력여부\",\n",
    "    \"MARR_STTS\": \"결혼상태\",\n",
    "    \"FAMILY_MEMB\": \"가구원수\",\n",
    "    \"JOB_NM\": \"직업\",\n",
    "    \"JOB_ETC\": \"직업_기타\",\n",
    "    \"INCOME\": \"본인소득\",\n",
    "    \"HOUSE_INCOME\": \"가구소득\",\n",
    "    \"TRAVEL_TERM\": \"여행일수_기간\",\n",
    "    \"TRAVEL_NUM\": \"여행빈도\",\n",
    "    \"TRAVEL_LIKE_SIDO_1\": \"선호여행_시도_1\",\n",
    "    \"TRAVEL_LIKE_SGG_1\": \"선호여행_시군구_1\",\n",
    "    \"TRAVEL_LIKE_SIDO_2\": \"선호여행_시도_2\",\n",
    "    \"TRAVEL_LIKE_SGG_2\": \"선호여행_시군구_2\",\n",
    "    \"TRAVEL_LIKE_SIDO_3\": \"선호여행_시도_3\",\n",
    "    \"TRAVEL_LIKE_SGG_3\": \"선호여행_시군구_3\",\n",
    "    \"TRAVEL_STYL_1\": \"여행스타일1\",\n",
    "    \"TRAVEL_STYL_2\": \"여행스타일2\",\n",
    "    \"TRAVEL_STYL_3\": \"여행스타일3\",\n",
    "    \"TRAVEL_STYL_4\": \"여행스타일4\",\n",
    "    \"TRAVEL_STYL_5\": \"여행스타일5\",\n",
    "    \"TRAVEL_STYL_6\": \"여행스타일6\",\n",
    "    \"TRAVEL_STYL_7\": \"여행스타일7\",\n",
    "    \"TRAVEL_STYL_8\": \"여행스타일8\",\n",
    "    \"TRAVEL_STATUS_RESIDENCE\": \"여행출발_거주지\",\n",
    "    \"TRAVEL_STATUS_DESTINATION\": \"여행출발_도착지\",\n",
    "    \"TRAVEL_STATUS_ACCOMPANY\": \"여행동행_유형\",\n",
    "    \"TRAVEL_STATUS_YMD\": \"여행출발일자\",\n",
    "    \"TRAVEL_MOTIVE_1\": \"여행동기1\",\n",
    "    \"TRAVEL_MOTIVE_2\": \"여행동기2\",\n",
    "    \"TRAVEL_MOTIVE_3\": \"여행동기3\",\n",
    "    \"TRAVEL_COMPANIONS_NUM\": \"여행동반자수\"\n",
    "    \n",
    "}\n",
    "travel_m = travel_m.rename(columns=columns_master)\n",
    "travel_m.head()"
   ]
  },
  {
   "cell_type": "code",
   "execution_count": null,
   "id": "608f3acf",
   "metadata": {},
   "outputs": [],
   "source": [
    "# astype(int)를 사용했을때 NAN이 있으면 valueError가 발생하기때문에 아래와 같은 식으로 변경\n",
    "# errors = \"coerce\"는 변환할 수 없는 값들을 강제로 NAN으로 변경 \n",
    "travel_m[\"가구소득\"]= pd.to_numeric(travel_m[\"가구소득\"],errors = \"coerce\").astype(\"Int64\")"
   ]
  },
  {
   "cell_type": "code",
   "execution_count": null,
   "id": "f2dc07c7",
   "metadata": {},
   "outputs": [],
   "source": [
    "travel_m = dic_map(travel_m,'INC','가구소득')"
   ]
  },
  {
   "cell_type": "code",
   "execution_count": null,
   "id": "0dca1b29",
   "metadata": {},
   "outputs": [],
   "source": [
    "travel_m.head()"
   ]
  },
  {
   "cell_type": "code",
   "execution_count": null,
   "id": "d008d20a",
   "metadata": {
    "scrolled": true
   },
   "outputs": [],
   "source": [
    "visit_area_info.head(100)"
   ]
  },
  {
   "cell_type": "code",
   "execution_count": null,
   "id": "1871e991",
   "metadata": {},
   "outputs": [],
   "source": [
    "va_info= dic_map(visit_area_info,\"VIS\",\"VISIT_AREA_TYPE_CD\")\n",
    "va_info= dic_map(visit_area_info,\"REN\",\"VISIT_CHC_REASON_CD\")\n"
   ]
  },
  {
   "cell_type": "code",
   "execution_count": null,
   "id": "55c79b56",
   "metadata": {},
   "outputs": [],
   "source": [
    "\n",
    "va_info= dic_map(visit_area_info,\"DGS\",\"DGSTFN\")\n",
    "va_info= dic_map(visit_area_info,\"REP\",\"REVISIT_INTENTION\")\n",
    "va_info= dic_map(visit_area_info,\"REC\",\"RCMDTN_INTENTION\")"
   ]
  },
  {
   "cell_type": "code",
   "execution_count": null,
   "id": "24b5f193",
   "metadata": {},
   "outputs": [],
   "source": [
    "visit_area_info[\"RCMDTN_INTENTION\"]= pd.to_numeric(visit_area_info[\"RCMDTN_INTENTION\"],errors = \"coerce\").astype(\"Int64\")\n",
    "va_info= dic_map(visit_area_info,\"HTY\",\"LODGING_TYPE_CD\")"
   ]
  },
  {
   "cell_type": "code",
   "execution_count": null,
   "id": "f413fa53",
   "metadata": {},
   "outputs": [],
   "source": [
    "va_info.head()"
   ]
  },
  {
   "cell_type": "code",
   "execution_count": null,
   "id": "ffb17685",
   "metadata": {},
   "outputs": [],
   "source": [
    "columns_visit = {\n",
    "    \"TRAVEL_ID\": \"여행ID\",\n",
    "    \"VISIT_AREA_ID\": \"방문지 ID\",\n",
    "    \"VISIT_ORDER\": \"진행순서\",\n",
    "    \"VISIT_AREA_NM\": \"방문지명\",\n",
    "    \"VISIT_START_YMD\": \"방문시작일자\",\n",
    "    \"VISIT_END_YMD\": \"방문종료일자\",\n",
    "    \"ROAD_NM_ADDR\": \"도로명주소\",\n",
    "    \"LOTNO_ADDR\": \"지번주소\",\n",
    "    \"X_COORD\": \"X좌표\",\n",
    "    \"Y_COORD\": \"Y좌표\",\n",
    "    \"ROAD_NM_CD\": \"도로명코드\",\n",
    "    \"LOTNO_CD\": \"지번코드\",\n",
    "    \"POI_ID\": \"POI ID\",\n",
    "    \"POI_NM\": \"POI명\",\n",
    "    \"RESIDENCE_TIME_MIN\": \"체류시간_분\",\n",
    "    \"VISIT_AREA_TYPE_CD\": \"방문지역형코드\",\n",
    "    \"REVISIT_YN\": \"재방문여부\",\n",
    "    \"VISIT_CHC_REASON_CD\": \"방문선택이유코드\",\n",
    "    \"LODGING_TYPE_CD\": \"숙소유형코드\",\n",
    "    \"DGSTFN\": \"만족도\",\n",
    "    \"REVISIT_INTENTION\": \"재방문의향\",\n",
    "    \"RCMDTN_INTENTION\": \"추천의향\",\n",
    "    \"SGG_CD\": \"시군구코드\"\n",
    "}\n",
    "va_info = va_info.rename(columns=columns_visit)\n"
   ]
  },
  {
   "cell_type": "code",
   "execution_count": null,
   "id": "ee108c2a",
   "metadata": {},
   "outputs": [],
   "source": [
    "va_info = va_info.sort_values(by=['여행ID','진행순서']).reset_index(drop=True)"
   ]
  },
  {
   "cell_type": "code",
   "execution_count": null,
   "id": "db934ae9",
   "metadata": {},
   "outputs": [],
   "source": [
    "va_info.head()"
   ]
  },
  {
   "cell_type": "code",
   "execution_count": null,
   "id": "2be27619",
   "metadata": {},
   "outputs": [],
   "source": [
    "va_info[\"추천의향\"].value_counts()"
   ]
  },
  {
   "cell_type": "code",
   "execution_count": null,
   "id": "556e415e",
   "metadata": {},
   "outputs": [],
   "source": [
    "va_info[\"방문지명\"].value_counts()"
   ]
  }
 ],
 "metadata": {
  "kernelspec": {
   "display_name": "Python 3 (ipykernel)",
   "language": "python",
   "name": "python3"
  },
  "language_info": {
   "codemirror_mode": {
    "name": "ipython",
    "version": 3
   },
   "file_extension": ".py",
   "mimetype": "text/x-python",
   "name": "python",
   "nbconvert_exporter": "python",
   "pygments_lexer": "ipython3",
   "version": "3.10.9"
  }
 },
 "nbformat": 4,
 "nbformat_minor": 5
}
