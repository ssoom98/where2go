{
 "cells": [
  {
   "cell_type": "code",
   "execution_count": null,
   "id": "c9eef429",
   "metadata": {},
   "outputs": [],
   "source": [
    "sdfdfs"
   ]
  }
 ],
 "metadata": {
  "language_info": {
   "name": "python"
  }
 },
 "nbformat": 4,
 "nbformat_minor": 5
}
