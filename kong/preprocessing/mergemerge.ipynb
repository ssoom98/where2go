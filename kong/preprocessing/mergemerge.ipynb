{
 "cells": [
  {
   "cell_type": "markdown",
   "id": "0b540a39",
   "metadata": {},
   "source": [
    "방문지정보 전체 데이터 개수 구하고 x좌표, y좌표 결측치 수 구하기"
   ]
  },
  {
   "cell_type": "code",
   "execution_count": 2,
   "id": "ecf67c35",
   "metadata": {},
   "outputs": [
    {
     "name": "stdout",
     "output_type": "stream",
     "text": [
      "전체 데이터 수: 36984\n",
      "X좌표 결측치 수: 7170\n",
      "Y좌표 결측치 수: 7170\n",
      "    VISIT_AREA_ID VISIT_AREA_NM  VISIT_AREA_TYPE_CD  LODGING_TYPE_CD\n",
      "16     2211120005             집                  21              NaN\n",
      "18     2208190010       송정유로주차장                   9              NaN\n",
      "20     2209020001             집                  21              NaN\n",
      "27     2210160003    미래농원(mrnw)                   1              NaN\n",
      "37     2210280001             집                  21              NaN\n"
     ]
    },
    {
     "name": "stderr",
     "output_type": "stream",
     "text": [
      "C:\\Users\\Owner\\AppData\\Local\\Temp\\ipykernel_24648\\461137523.py:8: DtypeWarning: Columns (9) have mixed types. Specify dtype option on import or set low_memory=False.\n",
      "  visit_df = pd.read_csv(visit_path, encoding='utf-8')\n"
     ]
    }
   ],
   "source": [
    "#TS파일\n",
    "import pandas as pd\n",
    "\n",
    "# CSV 파일 경로\n",
    "visit_path = \"C:/Users/Owner/Desktop/MINIPROJECT_LOCAL/data/01-1.정식개방데이터/Training/01.원천데이터/TS_csv/tn_visit_area_info_방문지정보_B.csv\"\n",
    "\n",
    "# 데이터 불러오기\n",
    "visit_df = pd.read_csv(visit_path, encoding='utf-8')\n",
    "\n",
    "# 전체 데이터 개수\n",
    "print(\"전체 데이터 수:\", len(visit_df))\n",
    "\n",
    "# X좌표와 Y좌표 결측치 수\n",
    "print(\"X좌표 결측치 수:\", visit_df['X_COORD'].isna().sum())\n",
    "print(\"Y좌표 결측치 수:\", visit_df['Y_COORD'].isna().sum())\n",
    "\n",
    "# X 또는 Y 중 하나라도 결측인 경우 필터링\n",
    "missing_coords = visit_df[visit_df['X_COORD'].isna() | visit_df['Y_COORD'].isna()]\n",
    "\n",
    "# 결측치 행 중 필요한 컬럼 보기\n",
    "if 'VISIT_AREA_NM' in visit_df.columns:\n",
    "    print(missing_coords[['VISIT_AREA_ID', 'VISIT_AREA_NM', 'VISIT_AREA_TYPE_CD', 'LODGING_TYPE_CD']].head())\n",
    "else:\n",
    "    print(\"VISIT_AREA_NM 컬럼이 포함되어 있는지 확인해보세요.\")\n"
   ]
  },
  {
   "cell_type": "code",
   "execution_count": 3,
   "id": "5f7d5db8",
   "metadata": {},
   "outputs": [
    {
     "name": "stdout",
     "output_type": "stream",
     "text": [
      "전체 데이터 수: 4623\n",
      "X좌표 결측치 수: 911\n",
      "Y좌표 결측치 수: 911\n",
      "    VISIT_AREA_ID VISIT_AREA_NM  VISIT_AREA_TYPE_CD  LODGING_TYPE_CD\n",
      "1      2208300001             집                  21              NaN\n",
      "8      2210290003      탑골로5길 39                  22              NaN\n",
      "17     2210230001             집                  21              NaN\n",
      "35     2210070016             집                  21              NaN\n",
      "40     2211050001             집                  21              NaN\n"
     ]
    }
   ],
   "source": [
    "#VS파일\n",
    "import pandas as pd\n",
    "\n",
    "# CSV 파일 경로\n",
    "visit_path2 = \"C:/Users/Owner/Desktop/MINIPROJECT_LOCAL/data/01-1.정식개방데이터/Validation/01.원천데이터/VS_csv/tn_visit_area_info_방문지정보_B.csv\"\n",
    "\n",
    "# 데이터 불러오기\n",
    "visit_df2 = pd.read_csv(visit_path2, encoding='utf-8')\n",
    "\n",
    "# 전체 데이터 개수\n",
    "print(\"전체 데이터 수:\", len(visit_df2))\n",
    "\n",
    "# X좌표와 Y좌표 결측치 수\n",
    "print(\"X좌표 결측치 수:\", visit_df2['X_COORD'].isna().sum())\n",
    "print(\"Y좌표 결측치 수:\", visit_df2['Y_COORD'].isna().sum())\n",
    "\n",
    "# X 또는 Y 중 하나라도 결측인 경우 필터링\n",
    "missing_coords2 = visit_df2[visit_df2['X_COORD'].isna() | visit_df2['Y_COORD'].isna()]\n",
    "\n",
    "# 결측치 행 중 필요한 컬럼 보기\n",
    "if 'VISIT_AREA_NM' in visit_df2.columns:\n",
    "    print(missing_coords2[['VISIT_AREA_ID', 'VISIT_AREA_NM', 'VISIT_AREA_TYPE_CD', 'LODGING_TYPE_CD']].head())\n",
    "else:\n",
    "    print(\"VISIT_AREA_NM 컬럼이 포함되어 있는지 확인해보세요.\")\n"
   ]
  },
  {
   "cell_type": "markdown",
   "id": "5dfb06bb",
   "metadata": {},
   "source": [
    "x좌표, y좌표가 결측치인 방문지유형 검사\n",
    "\n",
    "TS파일\n",
    "\n",
    "21 집    5342\n",
    "11 식당/카페     452\n",
    "22 친구/친지집     385\n",
    "24 숙소     234\n",
    "4 상업지구(거리,시장,쇼핑시설)      113\n",
    "1 자연관광지      103\n",
    "9 역,터미널,고속도로휴게소       76\n",
    "7 산책로,둘레길 등       71\n",
    "10 상점      69\n",
    "12 기타      56\n",
    "2 역사/유적/종교 시설(문화재,박물관,촬영지,절 등)       52\n",
    "13 체험활동관광지      51\n",
    "23 사무실      48\n",
    "3 문화시설(공연장,영화관,전시관 등)       37\n",
    "8 지역축제/행사      35\n",
    "6 테마시설(놀이공원,워터파크)      25\n",
    "5 레저/스포츠관련시설(스키,카트,수상레저)       21\n",
    "\n",
    "VS파일\n",
    "\n",
    "21 집   689\n",
    "22 친구/친지집    50\n",
    "11 식당/카페    45\n",
    "24 숙소    30\n",
    "4 상업지구(거리,시장,쇼핑시설)     17\n",
    "1 자연관광지     14\n",
    "9 역,터미널,고속도로휴게소     10\n",
    "7 산책로,둘레길 등      9\n",
    "12 기타     9\n",
    "23 사무실     8\n",
    "8 지역축제/행사      7\n",
    "10 상점      6\n",
    "2 역사/유적/종교 시설(문화재,박물관,촬영지,절 등)      5\n",
    "3 문화시설(공연장,영화관,전시관 등)      4\n",
    "6 테마시설(놀이공원,워터파크)       4\n",
    "13 체험활동관광지     4\n"
   ]
  },
  {
   "cell_type": "code",
   "execution_count": 4,
   "id": "f3ae2e1a",
   "metadata": {},
   "outputs": [
    {
     "name": "stdout",
     "output_type": "stream",
     "text": [
      "VISIT_AREA_TYPE_CD\n",
      "21    5342\n",
      "11     452\n",
      "22     385\n",
      "24     234\n",
      "4      113\n",
      "1      103\n",
      "9       76\n",
      "7       71\n",
      "10      69\n",
      "12      56\n",
      "2       52\n",
      "13      51\n",
      "23      48\n",
      "3       37\n",
      "8       35\n",
      "6       25\n",
      "5       21\n",
      "Name: count, dtype: int64\n"
     ]
    }
   ],
   "source": [
    "# VISIT_AREA_NM 컬럼 기준으로 몇 번씩 결측에 등장했는지 집계\n",
    "#TS파일\n",
    "missing_name_counts = missing_coords['VISIT_AREA_NM'].value_counts()\n",
    "print(missing_coords['VISIT_AREA_TYPE_CD'].value_counts())"
   ]
  },
  {
   "cell_type": "code",
   "execution_count": 15,
   "id": "dc4b3ef2",
   "metadata": {},
   "outputs": [
    {
     "name": "stdout",
     "output_type": "stream",
     "text": [
      "VISIT_AREA_TYPE_CD\n",
      "21    689\n",
      "22     50\n",
      "11     45\n",
      "24     30\n",
      "4      17\n",
      "1      14\n",
      "9      10\n",
      "7       9\n",
      "12      9\n",
      "23      8\n",
      "8       7\n",
      "10      6\n",
      "2       5\n",
      "3       4\n",
      "6       4\n",
      "13      4\n",
      "Name: count, dtype: int64\n"
     ]
    }
   ],
   "source": [
    "# VISIT_AREA_NM 컬럼 기준으로 몇 번씩 결측에 등장했는지 집계\n",
    "#VS파일\n",
    "missing_name_counts2 = missing_coords2['VISIT_AREA_NM'].value_counts()\n",
    "print(missing_coords2['VISIT_AREA_TYPE_CD'].value_counts())"
   ]
  },
  {
   "cell_type": "markdown",
   "id": "30b3e9ce",
   "metadata": {},
   "source": [
    "기타(56개)는 어떤 값이 있나? -> 제거하기로 결심하다. -> 제거하지 않기로 결심하다."
   ]
  },
  {
   "cell_type": "code",
   "execution_count": 3,
   "id": "314782ed",
   "metadata": {},
   "outputs": [
    {
     "name": "stdout",
     "output_type": "stream",
     "text": [
      "결측치 + 기타(12) 유형 방문지 수: 56\n",
      "       VISIT_AREA_ID         VISIT_AREA_NM\n",
      "541       2210120003     부산대학교 부산캠퍼스 경제통상관\n",
      "1211      2210140006       해운대블루라인파크 송정정거장\n",
      "1793      2209210002            서울대학교 동물병원\n",
      "1850      2211060005                   동내면\n",
      "1861      2210060007                스위치속초점\n",
      "2205      2210220011              순긋해변 야영장\n",
      "2441      2208210005                   윗개천\n",
      "2600      2210230006             양지동 666번지\n",
      "2852      2210300001        마을주변 환경정비(플로깅)\n",
      "3066      2210310002             참 좋은 신경외과\n",
      "3880      2210290004            동네산책 이모집인근\n",
      "6193      2210150011                   친구집\n",
      "7311      2210240005               교학사 교커피\n",
      "7659      2210290003         이마트24 진주인사원룸점\n",
      "9405      2210020004             W시티컨벤션웨딩홀\n",
      "9928      2209240011               쏘카 반납장소\n",
      "12216     2208230001          아이앤락pc 하단2호점\n",
      "13666     2208240001                아담노래타운\n",
      "13843     2211100006             여자친구 어머니댁\n",
      "13893     2210020003            포토하임 황리단길점\n",
      "14323     2210080005                매암제 다원\n",
      "16476     2210290009                  닉스pc\n",
      "16557     2211100002             여자친구 어머니댁\n",
      "17179     2208210004                 대관령네컷\n",
      "17195     2211030008            부산대 역 앞 벤치\n",
      "17605     2209190002            속초이동중 차 고장\n",
      "19128     2209250001                   휴마루\n",
      "19984     2208090001                자연경관관람\n",
      "20150     2210300010            강릉선교 세븐일레븐\n",
      "20747     2211040007             텐텐동전노래연습장\n",
      "21509     2211040007             락휴코인노래연습장\n",
      "22538     2210010002               소호259카페\n",
      "22986     2210290007  부산광역시 해운대구 중동 1768-5\n",
      "23033     2208200001                 옥스pc방\n",
      "23810     2210020001             대포동 13-29\n",
      "24128     2210090008         In the groove\n",
      "24541     2208090002                자연경관관람\n",
      "25417     2210290005               롯데김해아울렛\n",
      "25661     2210140005                 울산대학교\n",
      "26582     2210300003           Gs편의점 대구남산점\n",
      "27277     2210220005                아버지 산소\n",
      "27960     2211050007      친척집 앞 지인이 하는 캠핑장\n",
      "29568     2211090007               역전할머니맥주\n",
      "29976     2210290002             포스코본사 홍보관\n",
      "30135     2208030002                반료묘 숙소\n",
      "30482     2211030004       경상북도 경주 건천읍 단석로\n",
      "30767     2208240002               장호항 샤워장\n",
      "31617     2209280007              청량리 스타벅스\n",
      "32015     2210290002             백두대간 진부쉼터\n",
      "34050     2208200002              세이브존 광명점\n",
      "35337     2210090006                차량반환장소\n",
      "35511     2209020004                  play\n",
      "35615     2210230004            청수골계곡 힐링농원\n",
      "35667     2210180004             속초 한게임당구장\n",
      "36291     2208280001                지인집 방문\n",
      "36910     2211060004            상주시 화서면 일대\n"
     ]
    }
   ],
   "source": [
    "#TS파일\n",
    "# 먼저 결측치가 있는 행 추출 (이미 했던 코드)\n",
    "missing_coords = visit_df[visit_df['X_COORD'].isna() | visit_df['Y_COORD'].isna()]\n",
    "\n",
    "# 그 중에서 VISIT_AREA_TYPE_CD가 12인 행만 추출\n",
    "missing_etc = missing_coords[missing_coords['VISIT_AREA_TYPE_CD'] == 12]\n",
    "\n",
    "# VISIT_AREA_NM 전체 출력\n",
    "print(\"결측치 + 기타(12) 유형 방문지 수:\", len(missing_etc))\n",
    "print(missing_etc[['VISIT_AREA_ID', 'VISIT_AREA_NM']])"
   ]
  },
  {
   "cell_type": "code",
   "execution_count": 16,
   "id": "21657d94",
   "metadata": {},
   "outputs": [
    {
     "name": "stdout",
     "output_type": "stream",
     "text": [
      "결측치 + 기타(12) 유형 방문지 수: 9\n",
      "      VISIT_AREA_ID  VISIT_AREA_NM\n",
      "370      2210160009  대구 수성구 무학로 78\n",
      "425      2209030003       포토하임 경주점\n",
      "583      2208220005         아바니테라피\n",
      "898      2210300004      울산 인디고pc방\n",
      "1941     2208150004         아버지 산소\n",
      "2864     2210230008     유천농협분소 정류장\n",
      "2987     2210220006       순긋해변 야영장\n",
      "4083     2210290006     양리단길 바베큐파티\n",
      "4252     2208060003      장유동 843-2\n"
     ]
    }
   ],
   "source": [
    "#VS파일\n",
    "# 먼저 결측치가 있는 행 추출 (이미 했던 코드)\n",
    "missing_coords2 = visit_df2[visit_df2['X_COORD'].isna() | visit_df2['Y_COORD'].isna()]\n",
    "\n",
    "# 그 중에서 VISIT_AREA_TYPE_CD가 12인 행만 추출\n",
    "missing_etc2 = missing_coords2[missing_coords2['VISIT_AREA_TYPE_CD'] == 12]\n",
    "\n",
    "# VISIT_AREA_NM 전체 출력\n",
    "print(\"결측치 + 기타(12) 유형 방문지 수:\", len(missing_etc2))\n",
    "print(missing_etc2[['VISIT_AREA_ID', 'VISIT_AREA_NM']])"
   ]
  },
  {
   "cell_type": "markdown",
   "id": "262c8d49",
   "metadata": {},
   "source": [
    "이거 무시하기!!!\n",
    "X_COORD 또는 Y_COORD가 결측치이고\n",
    "VISIT_AREA_TYPE_CD가 21, 22, 23, 12 중 하나인 행 → 제거 하려다가 제거하지 않기로 결정."
   ]
  },
  {
   "cell_type": "code",
   "execution_count": 7,
   "id": "6827af44",
   "metadata": {},
   "outputs": [
    {
     "name": "stderr",
     "output_type": "stream",
     "text": [
      "C:\\Users\\Owner\\AppData\\Local\\Temp\\ipykernel_24172\\2422552575.py:8: DtypeWarning: Columns (9) have mixed types. Specify dtype option on import or set low_memory=False.\n",
      "  ts_df_raw = pd.read_csv(ts_path, encoding='utf-8')\n"
     ]
    },
    {
     "name": "stdout",
     "output_type": "stream",
     "text": [
      "📁 TS 파일:\n",
      "VISIT_AREA_TYPE_CD\n",
      "12     452\n",
      "21    5600\n",
      "22     943\n",
      "23     190\n",
      "Name: count, dtype: int64\n",
      "\n",
      "📁 VS 파일:\n",
      "VISIT_AREA_TYPE_CD\n",
      "12     50\n",
      "21    723\n",
      "22    127\n",
      "23     21\n",
      "Name: count, dtype: int64\n"
     ]
    }
   ],
   "source": [
    "import pandas as pd\n",
    "\n",
    "# 파일 경로\n",
    "ts_path = \"C:/Users/Owner/Desktop/MINIPROJECT_LOCAL/data/01-1.정식개방데이터/Training/01.원천데이터/TS_csv/tn_visit_area_info_방문지정보_B.csv\"\n",
    "vs_path = \"C:/Users/Owner/Desktop/MINIPROJECT_LOCAL/data/01-1.정식개방데이터/Validation/01.원천데이터/VS_csv/tn_visit_area_info_방문지정보_B.csv\"\n",
    "\n",
    "# 파일 로드\n",
    "ts_df_raw = pd.read_csv(ts_path, encoding='utf-8')\n",
    "vs_df_raw = pd.read_csv(vs_path, encoding='utf-8')\n",
    "\n",
    "# 분석 대상 코드\n",
    "target_types = [21, 22, 23, 12]\n",
    "\n",
    "# TS 통계\n",
    "print(\"📁 TS 파일:\")\n",
    "ts_counts = ts_df_raw['VISIT_AREA_TYPE_CD'].value_counts().sort_index()\n",
    "print(ts_counts[ts_counts.index.isin(target_types)])\n",
    "\n",
    "# VS 통계\n",
    "print(\"\\n📁 VS 파일:\")\n",
    "vs_counts = vs_df_raw['VISIT_AREA_TYPE_CD'].value_counts().sort_index()\n",
    "print(vs_counts[vs_counts.index.isin(target_types)])"
   ]
  },
  {
   "cell_type": "code",
   "execution_count": 4,
   "id": "bc8af4eb",
   "metadata": {},
   "outputs": [
    {
     "name": "stderr",
     "output_type": "stream",
     "text": [
      "C:\\Users\\Owner\\AppData\\Local\\Temp\\ipykernel_17160\\4072498190.py:6: DtypeWarning: Columns (9) have mixed types. Specify dtype option on import or set low_memory=False.\n",
      "  visit_df = pd.read_csv(visit_path, encoding='utf-8')\n",
      "C:\\Users\\Owner\\AppData\\Local\\Temp\\ipykernel_17160\\4072498190.py:10: DtypeWarning: Columns (3,4,12) have mixed types. Specify dtype option on import or set low_memory=False.\n",
      "  poi_df = pd.read_csv(poi_path, encoding='utf-8')\n"
     ]
    }
   ],
   "source": [
    "#TS파일\n",
    "import pandas as pd\n",
    "\n",
    "# 방문지 정보 파일\n",
    "visit_path = \"C:/Users/Owner/Desktop/MINIPROJECT_LOCAL/data/01-1.정식개방데이터/Training/01.원천데이터/TS_csv/tn_visit_area_info_방문지정보_B.csv\"\n",
    "visit_df = pd.read_csv(visit_path, encoding='utf-8')\n",
    "\n",
    "# POI 마스터 파일\n",
    "poi_path = \"C:/Users/Owner/Desktop/MINIPROJECT_LOCAL/data/01-1.정식개방데이터/Training/01.원천데이터/TS_csv/tn_poi_master_POIMaster.csv\"\n",
    "poi_df = pd.read_csv(poi_path, encoding='utf-8')"
   ]
  },
  {
   "cell_type": "code",
   "execution_count": 17,
   "id": "6f8f9470",
   "metadata": {},
   "outputs": [
    {
     "name": "stderr",
     "output_type": "stream",
     "text": [
      "C:\\Users\\Owner\\AppData\\Local\\Temp\\ipykernel_17160\\288052472.py:10: DtypeWarning: Columns (3,4,12) have mixed types. Specify dtype option on import or set low_memory=False.\n",
      "  poi_df2 = pd.read_csv(poi_path2, encoding='utf-8')\n"
     ]
    }
   ],
   "source": [
    "#VS파일\n",
    "import pandas as pd\n",
    "\n",
    "# 방문지 정보 파일\n",
    "visit_path2 = \"C:/Users/Owner/Desktop/MINIPROJECT_LOCAL/data/01-1.정식개방데이터/Validation/01.원천데이터/VS_csv/tn_visit_area_info_방문지정보_B.csv\"\n",
    "visit_df2 = pd.read_csv(visit_path2, encoding='utf-8')\n",
    "\n",
    "# POI 마스터 파일\n",
    "poi_path2 = \"C:/Users/Owner/Desktop/MINIPROJECT_LOCAL/data/01-1.정식개방데이터/Validation/01.원천데이터/VS_csv/tn_poi_master_POIMaster.csv\"\n",
    "poi_df2 = pd.read_csv(poi_path2, encoding='utf-8')"
   ]
  },
  {
   "cell_type": "code",
   "execution_count": null,
   "id": "473dc19c",
   "metadata": {},
   "outputs": [],
   "source": [
    "#####실행하기 말기!!\n",
    "#TS파일\n",
    "# 좌표 결측치가 있는 행 중에서\n",
    "#missing_coords = visit_df[visit_df['X_COORD'].isna() | visit_df['Y_COORD'].isna()]\n",
    "\n",
    "# TYPE_CD가 21/22/23/12인 행만 필터링\n",
    "#drop_types = [21, 22, 23, 12]\n",
    "#to_drop = missing_coords[missing_coords['VISIT_AREA_TYPE_CD'].isin(drop_types)]\n",
    "\n",
    "# 이들 제거하고 나머지만 남기기\n",
    "#visit_cleaned = visit_df.drop(index=to_drop.index)\n",
    "######"
   ]
  },
  {
   "cell_type": "code",
   "execution_count": null,
   "id": "ddf9a22c",
   "metadata": {},
   "outputs": [],
   "source": [
    "#####실행하기 말기!!\n",
    "#VS파일\n",
    "# 좌표 결측치가 있는 행 중에서\n",
    "#missing_coords2 = visit_df2[visit_df2['X_COORD'].isna() | visit_df2['Y_COORD'].isna()]\n",
    "\n",
    "# TYPE_CD가 21/22/23/12인 행만 필터링\n",
    "#drop_types2 = [21, 22, 23, 12]\n",
    "#to_drop2 = missing_coords2[missing_coords2['VISIT_AREA_TYPE_CD'].isin(drop_types2)]\n",
    "\n",
    "# 이들 제거하고 나머지만 남기기\n",
    "#visit_cleaned2 = visit_df2.drop(index=to_drop2.index)\n",
    "######"
   ]
  },
  {
   "cell_type": "markdown",
   "id": "ef98ed98",
   "metadata": {},
   "source": [
    "나머지 X/Y 결측치가 있는 행들 중:\n",
    "POI_ID, POI_NM을 활용해서\n",
    "tn_poi_master_POIMaster.csv의 POI_ID, POI_NM, X_COORD, Y_COORD와 JOIN\n",
    "좌표를 채움"
   ]
  },
  {
   "cell_type": "code",
   "execution_count": 5,
   "id": "ab22435a",
   "metadata": {},
   "outputs": [],
   "source": [
    "#TS파일\n",
    "# 다시 결측치가 있는 행만 필터링\n",
    "#still_missing = visit_cleaned[visit_cleaned['X_COORD'].isna() | visit_cleaned['Y_COORD'].isna()]\n",
    "\n",
    "# POI_ID 기준으로 poi_df에서 좌표 가져오기\n",
    "# 필요한 컬럼만 추출\n",
    "poi_coords = poi_df[['POI_ID', 'X_COORD', 'Y_COORD']].copy()\n",
    "poi_coords.columns = ['POI_ID', 'POI_X', 'POI_Y']  # 충돌 방지 위해 이름 변경\n",
    "\n",
    "# LEFT JOIN: visit_cleaned의 POI_ID 기준으로 좌표 붙이기\n",
    "merged = pd.merge(visit_df, poi_coords, how='left', on='POI_ID')\n",
    "\n",
    "# 원래 좌표가 없는 경우에만 POI 좌표로 보완\n",
    "merged['X_COORD'] = merged['X_COORD'].fillna(merged['POI_X'])\n",
    "merged['Y_COORD'] = merged['Y_COORD'].fillna(merged['POI_Y'])\n",
    "\n",
    "# 불필요한 보조 컬럼 제거\n",
    "final_df = merged.drop(columns=['POI_X', 'POI_Y'])"
   ]
  },
  {
   "cell_type": "code",
   "execution_count": 18,
   "id": "2c0f8406",
   "metadata": {},
   "outputs": [],
   "source": [
    "#vS파일\n",
    "# 다시 결측치가 있는 행만 필터링\n",
    "#still_missing2 = visit_cleaned2[visit_cleaned2['X_COORD'].isna() | visit_cleaned2['Y_COORD'].isna()]\n",
    "\n",
    "# POI_ID 기준으로 poi_df에서 좌표 가져오기\n",
    "# 필요한 컬럼만 추출\n",
    "poi_coords2 = poi_df2[['POI_ID', 'X_COORD', 'Y_COORD']].copy()\n",
    "poi_coords2.columns = ['POI_ID', 'POI_X', 'POI_Y']  # 충돌 방지 위해 이름 변경\n",
    "\n",
    "# LEFT JOIN: visit_cleaned의 POI_ID 기준으로 좌표 붙이기\n",
    "merged2 = pd.merge(visit_df2, poi_coords2, how='left', on='POI_ID')\n",
    "\n",
    "# 원래 좌표가 없는 경우에만 POI 좌표로 보완\n",
    "merged2['X_COORD'] = merged2['X_COORD'].fillna(merged2['POI_X'])\n",
    "merged2['Y_COORD'] = merged2['Y_COORD'].fillna(merged2['POI_Y'])\n",
    "\n",
    "# 불필요한 보조 컬럼 제거\n",
    "final_df2 = merged2.drop(columns=['POI_X', 'POI_Y'])"
   ]
  },
  {
   "cell_type": "markdown",
   "id": "886cd335",
   "metadata": {},
   "source": [
    "TS파일\n",
    "전체 데이터 수: 36984\n",
    "X좌표 결측치 수: 7170\n",
    "Y좌표 결측치 수: 7170\n",
    "채우고 남은 결측치수 255 -> 이건 제거합니다!\n",
    "VS파일\n",
    "전체 데이터 수: 4623\n",
    "X좌표 결측치 수: 911\n",
    "Y좌표 결측치 수: 911\n",
    "채우고 남은 결측치수 38 -> 이건 제거합니다!"
   ]
  },
  {
   "cell_type": "code",
   "execution_count": 8,
   "id": "e93044b4",
   "metadata": {},
   "outputs": [
    {
     "name": "stdout",
     "output_type": "stream",
     "text": [
      "POI 정보로 채운 후 남은 결측치 수: 4747 4747\n"
     ]
    }
   ],
   "source": [
    "#TS파일\n",
    "print(\"POI 정보로 채운 후 남은 결측치 수:\",\n",
    "      final_df['X_COORD'].isna().sum(), final_df['Y_COORD'].isna().sum())"
   ]
  },
  {
   "cell_type": "code",
   "execution_count": 19,
   "id": "9435923c",
   "metadata": {},
   "outputs": [
    {
     "name": "stdout",
     "output_type": "stream",
     "text": [
      "POI 정보로 채운 후 남은 결측치 수: 623 623\n"
     ]
    }
   ],
   "source": [
    "#VS파일\n",
    "print(\"POI 정보로 채운 후 남은 결측치 수:\",\n",
    "      final_df2['X_COORD'].isna().sum(), final_df2['Y_COORD'].isna().sum())"
   ]
  },
  {
   "cell_type": "code",
   "execution_count": 9,
   "id": "50177f7f",
   "metadata": {},
   "outputs": [],
   "source": [
    "#TS파일\n",
    "# POI 이름으로 좌표 보완하기 위해 컬럼 추출 및 이름 충돌 방지\n",
    "poi_by_name = poi_df[['POI_NM', 'X_COORD', 'Y_COORD']].copy()\n",
    "poi_by_name.columns = ['POI_NM', 'POI_X_from_name', 'POI_Y_from_name']"
   ]
  },
  {
   "cell_type": "code",
   "execution_count": 20,
   "id": "f678b51b",
   "metadata": {},
   "outputs": [],
   "source": [
    "#VS파일\n",
    "# POI 이름으로 좌표 보완하기 위해 컬럼 추출 및 이름 충돌 방지\n",
    "poi_by_name2 = poi_df[['POI_NM', 'X_COORD', 'Y_COORD']].copy()\n",
    "poi_by_name2.columns = ['POI_NM', 'POI_X_from_name', 'POI_Y_from_name']"
   ]
  },
  {
   "cell_type": "code",
   "execution_count": 10,
   "id": "658bb399",
   "metadata": {},
   "outputs": [],
   "source": [
    "#TS파일\n",
    "# POI_ID로 채우고도 여전히 결측인 애들만 따로\n",
    "still_missing_after_poi_id = final_df[final_df['X_COORD'].isna() | final_df['Y_COORD'].isna()]\n",
    "\n",
    "# POI_NM 기준으로 merge\n",
    "final_with_name_filled = pd.merge(\n",
    "    final_df,\n",
    "    poi_by_name,\n",
    "    how='left',\n",
    "    on='POI_NM'\n",
    ")\n",
    "\n",
    "# 다시 한 번 좌표 보완 (X/Y가 비어 있는 경우만)\n",
    "final_with_name_filled['X_COORD'] = final_with_name_filled['X_COORD'].fillna(final_with_name_filled['POI_X_from_name'])\n",
    "final_with_name_filled['Y_COORD'] = final_with_name_filled['Y_COORD'].fillna(final_with_name_filled['POI_Y_from_name'])\n",
    "\n",
    "# 임시 컬럼 제거\n",
    "final_cleaned = final_with_name_filled.drop(columns=['POI_X_from_name', 'POI_Y_from_name'])"
   ]
  },
  {
   "cell_type": "code",
   "execution_count": 21,
   "id": "27af0539",
   "metadata": {},
   "outputs": [],
   "source": [
    "#VS파일\n",
    "# POI_ID로 채우고도 여전히 결측인 애들만 따로\n",
    "still_missing_after_poi_id2 = final_df2[final_df2['X_COORD'].isna() | final_df2['Y_COORD'].isna()]\n",
    "\n",
    "# POI_NM 기준으로 merge\n",
    "final_with_name_filled2 = pd.merge(\n",
    "    final_df2,\n",
    "    poi_by_name2,\n",
    "    how='left',\n",
    "    on='POI_NM'\n",
    ")\n",
    "\n",
    "# 다시 한 번 좌표 보완 (X/Y가 비어 있는 경우만)\n",
    "final_with_name_filled2['X_COORD'] = final_with_name_filled2['X_COORD'].fillna(final_with_name_filled2['POI_X_from_name'])\n",
    "final_with_name_filled2['Y_COORD'] = final_with_name_filled2['Y_COORD'].fillna(final_with_name_filled2['POI_Y_from_name'])\n",
    "\n",
    "# 임시 컬럼 제거\n",
    "final_cleaned2 = final_with_name_filled2.drop(columns=['POI_X_from_name', 'POI_Y_from_name'])"
   ]
  },
  {
   "cell_type": "code",
   "execution_count": 11,
   "id": "2bc654a9",
   "metadata": {},
   "outputs": [
    {
     "name": "stdout",
     "output_type": "stream",
     "text": [
      "최종적으로도 좌표가 없는 행 수: 255 255\n"
     ]
    }
   ],
   "source": [
    "#TS파일\n",
    "print(\"최종적으로도 좌표가 없는 행 수:\",\n",
    "      final_cleaned['X_COORD'].isna().sum(), final_cleaned['Y_COORD'].isna().sum())"
   ]
  },
  {
   "cell_type": "code",
   "execution_count": 22,
   "id": "c14d8009",
   "metadata": {},
   "outputs": [
    {
     "name": "stdout",
     "output_type": "stream",
     "text": [
      "최종적으로도 좌표가 없는 행 수: 38 38\n"
     ]
    }
   ],
   "source": [
    "#VS파일\n",
    "print(\"최종적으로도 좌표가 없는 행 수:\",\n",
    "      final_cleaned2['X_COORD'].isna().sum(), final_cleaned2['Y_COORD'].isna().sum())"
   ]
  },
  {
   "cell_type": "code",
   "execution_count": 12,
   "id": "75543177",
   "metadata": {},
   "outputs": [
    {
     "name": "stdout",
     "output_type": "stream",
     "text": [
      "최종 데이터에서 결측치 수: 0 0\n",
      "최종 데이터 shape: (605429, 23)\n"
     ]
    }
   ],
   "source": [
    "#TS파일\n",
    "# X 또는 Y가 결측치인 행 제거\n",
    "final_ready = final_cleaned.dropna(subset=['X_COORD', 'Y_COORD'])\n",
    "\n",
    "# 확인: 결측치가 없는지\n",
    "print(\"최종 데이터에서 결측치 수:\", final_ready['X_COORD'].isna().sum(), final_ready['Y_COORD'].isna().sum())\n",
    "print(\"최종 데이터 shape:\", final_ready.shape)"
   ]
  },
  {
   "cell_type": "code",
   "execution_count": 23,
   "id": "ad084bed",
   "metadata": {},
   "outputs": [
    {
     "name": "stdout",
     "output_type": "stream",
     "text": [
      "최종 데이터에서 결측치 수: 0 0\n",
      "최종 데이터 shape: (89187, 23)\n"
     ]
    }
   ],
   "source": [
    "#vS파일\n",
    "# X 또는 Y가 결측치인 행 제거\n",
    "final_ready2 = final_cleaned2.dropna(subset=['X_COORD', 'Y_COORD'])\n",
    "\n",
    "# 확인: 결측치가 없는지\n",
    "print(\"최종 데이터에서 결측치 수:\", final_ready2['X_COORD'].isna().sum(), final_ready2['Y_COORD'].isna().sum())\n",
    "print(\"최종 데이터 shape:\", final_ready2.shape)"
   ]
  },
  {
   "cell_type": "markdown",
   "id": "09934aa0",
   "metadata": {},
   "source": [
    "파일 저장"
   ]
  },
  {
   "cell_type": "code",
   "execution_count": 13,
   "id": "6bfd19ff",
   "metadata": {},
   "outputs": [],
   "source": [
    "#TS파일\n",
    "final_df.to_csv(\"ts_방문지정보_좌표보완완료.csv\", index=False, encoding='utf-8-sig')"
   ]
  },
  {
   "cell_type": "code",
   "execution_count": 24,
   "id": "dc30878f",
   "metadata": {},
   "outputs": [],
   "source": [
    "#VS파일\n",
    "final_df2.to_csv(\"vs_방문지정보_좌표보완완료.csv\", index=False, encoding='utf-8-sig')"
   ]
  },
  {
   "cell_type": "markdown",
   "id": "8e501610",
   "metadata": {},
   "source": [
    "TS, VS 결측치 제거한 방문지정보 파일 합치기"
   ]
  },
  {
   "cell_type": "code",
   "execution_count": 25,
   "id": "b78138cf",
   "metadata": {},
   "outputs": [
    {
     "name": "stdout",
     "output_type": "stream",
     "text": [
      "합쳐진 데이터 shape: (41607, 24)\n",
      "SET\n",
      "Training      36984\n",
      "Validation     4623\n",
      "Name: count, dtype: int64\n"
     ]
    },
    {
     "name": "stderr",
     "output_type": "stream",
     "text": [
      "C:\\Users\\Owner\\AppData\\Local\\Temp\\ipykernel_17160\\3040363933.py:8: DtypeWarning: Columns (9) have mixed types. Specify dtype option on import or set low_memory=False.\n",
      "  ts_df = pd.read_csv(ts_path, encoding='utf-8')\n"
     ]
    }
   ],
   "source": [
    "import pandas as pd\n",
    "\n",
    "# 파일 경로\n",
    "ts_path = \"ts_방문지정보_좌표보완완료.csv\"\n",
    "vs_path = \"vs_방문지정보_좌표보완완료.csv\"\n",
    "\n",
    "# 파일 읽기\n",
    "ts_df = pd.read_csv(ts_path, encoding='utf-8')\n",
    "vs_df = pd.read_csv(vs_path, encoding='utf-8')\n",
    "\n",
    "# 출처 구분을 위한 SET 컬럼 추가\n",
    "ts_df['SET'] = 'Training'\n",
    "vs_df['SET'] = 'Validation'\n",
    "\n",
    "# 두 데이터프레임 합치기\n",
    "merged_df = pd.concat([ts_df, vs_df], ignore_index=True)\n",
    "\n",
    "# 결과 확인\n",
    "print(\"합쳐진 데이터 shape:\", merged_df.shape)\n",
    "print(merged_df['SET'].value_counts())\n"
   ]
  },
  {
   "cell_type": "code",
   "execution_count": 26,
   "id": "822f1cca",
   "metadata": {},
   "outputs": [],
   "source": [
    "# 최종 병합된 방문지 정보 저장\n",
    "merged_df.to_csv(\"통합_방문지정보_좌표완료.csv\", index=False, encoding='utf-8-sig')\n"
   ]
  },
  {
   "cell_type": "markdown",
   "id": "a53f0686",
   "metadata": {},
   "source": [
    "통합_방문지정보_좌표 완료에서 필요한 컬럼만 뽑아서 새로 저장\n",
    "여행 ID, 방문지 ID, 진행순서, X좌표, Y좌표"
   ]
  },
  {
   "cell_type": "code",
   "execution_count": 1,
   "id": "a120cba0",
   "metadata": {},
   "outputs": [
    {
     "ename": "NameError",
     "evalue": "name 'final_df' is not defined",
     "output_type": "error",
     "traceback": [
      "\u001b[1;31m---------------------------------------------------------------------------\u001b[0m",
      "\u001b[1;31mNameError\u001b[0m                                 Traceback (most recent call last)",
      "Cell \u001b[1;32mIn[1], line 5\u001b[0m\n\u001b[0;32m      2\u001b[0m cols_to_keep \u001b[38;5;241m=\u001b[39m [\u001b[38;5;124m'\u001b[39m\u001b[38;5;124mTRAVEL_ID\u001b[39m\u001b[38;5;124m'\u001b[39m, \u001b[38;5;124m'\u001b[39m\u001b[38;5;124mVISIT_AREA_ID\u001b[39m\u001b[38;5;124m'\u001b[39m, \u001b[38;5;124m'\u001b[39m\u001b[38;5;124mVISIT_ORDER\u001b[39m\u001b[38;5;124m'\u001b[39m, \u001b[38;5;124m'\u001b[39m\u001b[38;5;124mX_COORD\u001b[39m\u001b[38;5;124m'\u001b[39m, \u001b[38;5;124m'\u001b[39m\u001b[38;5;124mY_COORD\u001b[39m\u001b[38;5;124m'\u001b[39m]\n\u001b[0;32m      4\u001b[0m \u001b[38;5;66;03m# 필요한 컬럼만 추출\u001b[39;00m\n\u001b[1;32m----> 5\u001b[0m filtered_df \u001b[38;5;241m=\u001b[39m final_df[cols_to_keep]\u001b[38;5;241m.\u001b[39mcopy()\n\u001b[0;32m      7\u001b[0m \u001b[38;5;66;03m# 새 파일로 저장\u001b[39;00m\n\u001b[0;32m      8\u001b[0m filtered_df\u001b[38;5;241m.\u001b[39mto_csv(\u001b[38;5;124m\"\u001b[39m\u001b[38;5;124m방문지정보_좌표보완_필요컬럼.csv\u001b[39m\u001b[38;5;124m\"\u001b[39m, index\u001b[38;5;241m=\u001b[39m\u001b[38;5;28;01mFalse\u001b[39;00m, encoding\u001b[38;5;241m=\u001b[39m\u001b[38;5;124m'\u001b[39m\u001b[38;5;124mutf-8-sig\u001b[39m\u001b[38;5;124m'\u001b[39m)\n",
      "\u001b[1;31mNameError\u001b[0m: name 'final_df' is not defined"
     ]
    }
   ],
   "source": [
    "# 필요한 컬럼 목록\n",
    "cols_to_keep = ['TRAVEL_ID', 'VISIT_AREA_ID', 'VISIT_ORDER', 'X_COORD', 'Y_COORD']\n",
    "\n",
    "# 필요한 컬럼만 추출\n",
    "filtered_df = final_df[cols_to_keep].copy()\n",
    "\n",
    "# 새 파일로 저장\n",
    "filtered_df.to_csv(\"방문지정보_좌표보완_필요컬럼.csv\", index=False, encoding='utf-8-sig')\n",
    "\n",
    "print(\"필요한 컬럼만 추출하여 방문지정보_좌표보완_필요컬럼.csv로 저장했습니다.\")"
   ]
  },
  {
   "cell_type": "markdown",
   "id": "b56ccb66",
   "metadata": {},
   "source": [
    "최종 방문지정보 파일인 \"방문지정보_좌표보완_필요컬럼.csv\"에서 결측치, 이상치 확인하기.\n",
    "'TRAVEL_ID', 'VISIT_AREA_ID'는 결측치만 확인\n",
    "나머지 'VISIT_ORDER', 'X_COORD', 'Y_COORD'는 결측치랑 이상치 모두 확인"
   ]
  },
  {
   "cell_type": "code",
   "execution_count": 30,
   "id": "27d95135",
   "metadata": {},
   "outputs": [
    {
     "name": "stdout",
     "output_type": "stream",
     "text": [
      "🔍 TRAVEL_ID 결측치 수: 0\n",
      "🔍 VISIT_AREA_ID 결측치 수: 0\n",
      "🔍 VISIT_ORDER 결측치 수: 0\n",
      "🔍 X_COORD 결측치 수: 4747\n",
      "🔍 Y_COORD 결측치 수: 4747\n",
      "\n",
      "🚨 VISIT_ORDER 이상치 수 (음수): 0\n",
      "🚨 X_COORD 이상치 수 (120~140 밖): 1\n",
      "🚨 Y_COORD 이상치 수 (30~45 밖): 1\n"
     ]
    }
   ],
   "source": [
    "df = pd.read_csv(\"방문지정보_좌표보완_필요컬럼.csv\", encoding='utf-8-sig')\n",
    "\n",
    "#TRAVEL_ID, VISIT_AREA_ID의 결측치만 확인\n",
    "print(\"🔍 TRAVEL_ID 결측치 수:\", df['TRAVEL_ID'].isna().sum())\n",
    "print(\"🔍 VISIT_AREA_ID 결측치 수:\", df['VISIT_AREA_ID'].isna().sum())\n",
    "\n",
    "#VISIT_ORDER, X/Y_COORD의 결측치 확인\n",
    "print(\"🔍 VISIT_ORDER 결측치 수:\", df['VISIT_ORDER'].isna().sum())\n",
    "print(\"🔍 X_COORD 결측치 수:\", df['X_COORD'].isna().sum())\n",
    "print(\"🔍 Y_COORD 결측치 수:\", df['Y_COORD'].isna().sum())\n",
    "\n",
    "#df['X_COORD'] 열에 숫자가 아닌 문자열(str)이 섞여 있어서 에러 발생\n",
    "#X_COORD, Y_COORD, VISIT_ORDER를 숫자로 변환 후 비교하기\n",
    "df['X_COORD'] = pd.to_numeric(df['X_COORD'], errors='coerce')\n",
    "df['Y_COORD'] = pd.to_numeric(df['Y_COORD'], errors='coerce')\n",
    "df['VISIT_ORDER'] = pd.to_numeric(df['VISIT_ORDER'], errors='coerce')\n",
    "\n",
    "#VISIT_ORDER, X/Y_COORD의 이상치 확인\n",
    "#VISIT_ORDER: 음수, X_COORD, Y_COORD: 일반적으로 대한민국 기준으로 X_COORD: 120~140, Y_COORD: 30~45 범위를 벗어나면 이상치로 판단 가능\n",
    "visit_order_outliers = df[df['VISIT_ORDER'] < 0]\n",
    "x_outliers = df[(df['X_COORD'] < 120) | (df['X_COORD'] > 140)]\n",
    "y_outliers = df[(df['Y_COORD'] < 30) | (df['Y_COORD'] > 45)]\n",
    "\n",
    "print(\"\\n🚨 VISIT_ORDER 이상치 수 (음수):\", visit_order_outliers.shape[0])\n",
    "print(\"🚨 X_COORD 이상치 수 (120~140 밖):\", x_outliers.shape[0])\n",
    "print(\"🚨 Y_COORD 이상치 수 (30~45 밖):\", y_outliers.shape[0])"
   ]
  },
  {
   "cell_type": "markdown",
   "id": "f1eeaeef",
   "metadata": {},
   "source": [
    "일단 결측치랑 이상치가 있는 행을 뽑았습니다."
   ]
  },
  {
   "cell_type": "code",
   "execution_count": 32,
   "id": "b1f2af27",
   "metadata": {},
   "outputs": [
    {
     "name": "stdout",
     "output_type": "stream",
     "text": [
      "🧪 결측치 행 수\n",
      "TRAVEL_ID: 0\n",
      "VISIT_AREA_ID: 0\n",
      "VISIT_ORDER: 0\n",
      "X_COORD: 4751\n",
      "Y_COORD: 4748\n",
      "\n",
      "🧨 이상치 행 수\n",
      "VISIT_ORDER 음수: 0\n",
      "X_COORD 범위 밖: 1\n",
      "Y_COORD 범위 밖: 1\n"
     ]
    }
   ],
   "source": [
    "# 전처리: 숫자형 변환 (먼저 한 번만 해주세요)\n",
    "df['X_COORD'] = pd.to_numeric(df['X_COORD'], errors='coerce')\n",
    "df['Y_COORD'] = pd.to_numeric(df['Y_COORD'], errors='coerce')\n",
    "df['VISIT_ORDER'] = pd.to_numeric(df['VISIT_ORDER'], errors='coerce')\n",
    "\n",
    "# 결측치와 이상치 행 각각 추출\n",
    "## 결측치 조건\n",
    "missing_travel_id = df[df['TRAVEL_ID'].isna()]\n",
    "missing_visit_area_id = df[df['VISIT_AREA_ID'].isna()]\n",
    "missing_visit_order = df[df['VISIT_ORDER'].isna()]\n",
    "missing_x = df[df['X_COORD'].isna()]\n",
    "missing_y = df[df['Y_COORD'].isna()]\n",
    "\n",
    "## 이상치 조건\n",
    "visit_order_outliers = df[df['VISIT_ORDER'] < 0]\n",
    "x_outliers = df[(df['X_COORD'] < 120) | (df['X_COORD'] > 140)]\n",
    "y_outliers = df[(df['Y_COORD'] < 30) | (df['Y_COORD'] > 45)]\n",
    "\n",
    "#한눈에 보기 위한 출력\n",
    "print(\"🧪 결측치 행 수\")\n",
    "print(\"TRAVEL_ID:\", missing_travel_id.shape[0])\n",
    "print(\"VISIT_AREA_ID:\", missing_visit_area_id.shape[0])\n",
    "print(\"VISIT_ORDER:\", missing_visit_order.shape[0])\n",
    "print(\"X_COORD:\", missing_x.shape[0])\n",
    "print(\"Y_COORD:\", missing_y.shape[0])\n",
    "\n",
    "print(\"\\n🧨 이상치 행 수\")\n",
    "print(\"VISIT_ORDER 음수:\", visit_order_outliers.shape[0])\n",
    "print(\"X_COORD 범위 밖:\", x_outliers.shape[0])\n",
    "print(\"Y_COORD 범위 밖:\", y_outliers.shape[0])"
   ]
  },
  {
   "cell_type": "markdown",
   "id": "55174afc",
   "metadata": {},
   "source": [
    "🚨🚨🚨🚨🚨여기부터!!!!🚨🚨🚨🚨🚨"
   ]
  },
  {
   "cell_type": "code",
   "execution_count": 1,
   "id": "4a3d61ed",
   "metadata": {},
   "outputs": [
    {
     "name": "stderr",
     "output_type": "stream",
     "text": [
      "C:\\Users\\Owner\\AppData\\Local\\Temp\\ipykernel_23444\\2516172805.py:8: DtypeWarning: Columns (9) have mixed types. Specify dtype option on import or set low_memory=False.\n",
      "  ts_bangmoon = pd.read_csv(ts_path, encoding='utf-8-sig')\n"
     ]
    },
    {
     "name": "stdout",
     "output_type": "stream",
     "text": [
      "🎉 방문지정보_필요컬럼.csv 파일이 저장되었습니다!\n"
     ]
    }
   ],
   "source": [
    "import pandas as pd\n",
    "\n",
    "# 1. 파일 불러오기\n",
    "# 파일 경로\n",
    "ts_path = r\"C:/Users/Owner/Desktop/MINIPROJECT_LOCAL/data/01-1.정식개방데이터/Training/01.원천데이터/TS_csv/tn_visit_area_info_방문지정보_B.csv\"\n",
    "vs_path = r\"C:/Users/Owner/Desktop/MINIPROJECT_LOCAL/data/01-1.정식개방데이터/Validation/01.원천데이터/VS_csv/tn_visit_area_info_방문지정보_B.csv\"\n",
    "# 파일 불러오기\n",
    "ts_bangmoon = pd.read_csv(ts_path, encoding='utf-8-sig')\n",
    "vs_bangmoon = pd.read_csv(vs_path, encoding='utf-8-sig')\n",
    "# 데이터 병합\n",
    "merged_bangmoon = pd.concat([ts_bangmoon, vs_bangmoon], ignore_index=True)\n",
    "\n",
    "# 2. 필요한 컬럼만 추출\n",
    "cols_to_keep = ['TRAVEL_ID', 'VISIT_AREA_ID', 'VISIT_ORDER', 'X_COORD', 'Y_COORD', 'POI_ID', 'POI_NM']\n",
    "bangmoon_filtered = merged_bangmoon[cols_to_keep].copy()\n",
    "\n",
    "# 3. 새 파일로 저장\n",
    "bangmoon_filtered.to_csv(\"방문지정보_필요컬럼.csv\", index=False, encoding='utf-8-sig')\n",
    "\n",
    "print(\"🎉 방문지정보_필요컬럼.csv 파일이 저장되었습니다!\")"
   ]
  },
  {
   "cell_type": "code",
   "execution_count": 2,
   "id": "12a976f2",
   "metadata": {},
   "outputs": [
    {
     "name": "stdout",
     "output_type": "stream",
     "text": [
      "🧪 결측치 요약\n",
      "TRAVEL_ID 결측치: 0\n",
      "VISIT_AREA_ID 결측치: 0\n",
      "POI_ID 결측치: 23592\n",
      "POI_NM 결측치: 23592\n",
      "VISIT_ORDER 결측치: 0\n",
      "X_COORD 결측치: 8085\n",
      "Y_COORD 결측치: 8082\n",
      "\n",
      "🧨 이상치 요약\n",
      "VISIT_ORDER 이상치 (음수): 0\n",
      "X_COORD 이상치 (120~140 밖): 2\n",
      "Y_COORD 이상치 (30~45 밖): 1\n"
     ]
    }
   ],
   "source": [
    "import pandas as pd\n",
    "\n",
    "# 파일 불러오기\n",
    "df = pd.read_csv(\"방문지정보_필요컬럼.csv\", encoding='utf-8-sig')\n",
    "\n",
    "# 숫자형 변환 (오류 발생 시 NaN 처리)\n",
    "df['VISIT_ORDER'] = pd.to_numeric(df['VISIT_ORDER'], errors='coerce')\n",
    "df['X_COORD'] = pd.to_numeric(df['X_COORD'], errors='coerce')\n",
    "df['Y_COORD'] = pd.to_numeric(df['Y_COORD'], errors='coerce')\n",
    "\n",
    "# ✅ 결측치 탐지\n",
    "missing_travel_id = df[df['TRAVEL_ID'].isna()]\n",
    "missing_visit_area_id = df[df['VISIT_AREA_ID'].isna()]\n",
    "missing_poi_id = df[df['POI_ID'].isna()]\n",
    "missing_poi_nm = df[df['POI_NM'].isna()]\n",
    "missing_visit_order = df[df['VISIT_ORDER'].isna()]\n",
    "missing_x = df[df['X_COORD'].isna()]\n",
    "missing_y = df[df['Y_COORD'].isna()]\n",
    "\n",
    "# ✅ 이상치 탐지\n",
    "visit_order_outliers = df[df['VISIT_ORDER'] < 0]\n",
    "x_outliers = df[(df['X_COORD'] < 120) | (df['X_COORD'] > 140)]\n",
    "y_outliers = df[(df['Y_COORD'] < 30) | (df['Y_COORD'] > 45)]\n",
    "\n",
    "# ✅ 요약 출력\n",
    "print(\"🧪 결측치 요약\")\n",
    "print(\"TRAVEL_ID 결측치:\", missing_travel_id.shape[0])\n",
    "print(\"VISIT_AREA_ID 결측치:\", missing_visit_area_id.shape[0])\n",
    "print(\"POI_ID 결측치:\", missing_poi_id.shape[0])\n",
    "print(\"POI_NM 결측치:\", missing_poi_nm.shape[0])\n",
    "print(\"VISIT_ORDER 결측치:\", missing_visit_order.shape[0])\n",
    "print(\"X_COORD 결측치:\", missing_x.shape[0])\n",
    "print(\"Y_COORD 결측치:\", missing_y.shape[0])\n",
    "\n",
    "print(\"\\n🧨 이상치 요약\")\n",
    "print(\"VISIT_ORDER 이상치 (음수):\", visit_order_outliers.shape[0])\n",
    "print(\"X_COORD 이상치 (120~140 밖):\", x_outliers.shape[0])\n",
    "print(\"Y_COORD 이상치 (30~45 밖):\", y_outliers.shape[0])"
   ]
  },
  {
   "cell_type": "markdown",
   "id": "21db2fa3",
   "metadata": {},
   "source": [
    "3. 여행 파일에서 필요 컬럼 뽑고 결측치랑 이상치 확인하기"
   ]
  },
  {
   "cell_type": "code",
   "execution_count": 3,
   "id": "394f609f",
   "metadata": {},
   "outputs": [
    {
     "name": "stdout",
     "output_type": "stream",
     "text": [
      "🎉 여행_필요컬럼.csv 파일이 저장되었습니다!\n"
     ]
    }
   ],
   "source": [
    "import pandas as pd\n",
    "\n",
    "# 1. 파일 불러오기\n",
    "# 파일 경로\n",
    "ts_path = r\"C:/Users/Owner/Desktop/MINIPROJECT_LOCAL/data/01-1.정식개방데이터/Training/01.원천데이터/TS_csv/tn_travel_여행_B.csv\"\n",
    "vs_path = r\"C:/Users/Owner/Desktop/MINIPROJECT_LOCAL/data/01-1.정식개방데이터/Validation/01.원천데이터/VS_csv/tn_travel_여행_B.csv\"\n",
    "# 파일 불러오기\n",
    "ts_travel = pd.read_csv(ts_path, encoding='utf-8-sig')\n",
    "vs_travel = pd.read_csv(vs_path, encoding='utf-8-sig')\n",
    "# 데이터 병합\n",
    "merged_travel = pd.concat([ts_travel, vs_travel], ignore_index=True)\n",
    "\n",
    "# 2. 필요한 컬럼만 추출\n",
    "cols_to_keep = ['TRAVEL_ID', 'TRAVEL_START_YMD', 'TRAVEL_END_YMD', 'MVMN_NM']\n",
    "travel_filtered = merged_travel[cols_to_keep].copy()\n",
    "\n",
    "# 3. 새 파일로 저장\n",
    "travel_filtered.to_csv(\"여행_필요컬럼.csv\", index=False, encoding='utf-8-sig')\n",
    "\n",
    "print(\"🎉 여행_필요컬럼.csv 파일이 저장되었습니다!\")"
   ]
  },
  {
   "cell_type": "code",
   "execution_count": 4,
   "id": "1142b7fe",
   "metadata": {},
   "outputs": [
    {
     "name": "stdout",
     "output_type": "stream",
     "text": [
      "🧪 결측치 요약\n",
      "TRAVEL_ID 결측치: 0\n",
      "MVMN_NM 결측치: 692\n",
      "TRAVEL_START_YMD 결측치 또는 이상치: 0\n",
      "TRAVEL_END_YMD 결측치 또는 이상치: 0\n",
      "\n",
      "🧨 이상치 요약\n",
      "MVMN_NM 이상치 (허용값 이외): 0\n"
     ]
    }
   ],
   "source": [
    "import pandas as pd\n",
    "\n",
    "# 1. 파일 불러오기\n",
    "df = pd.read_csv(\"여행_필요컬럼.csv\", encoding='utf-8-sig')\n",
    "\n",
    "# 2. 날짜 컬럼을 datetime으로 변환 (이상치는 NaT로 처리됨)\n",
    "df['TRAVEL_START_YMD'] = pd.to_datetime(df['TRAVEL_START_YMD'], errors='coerce')\n",
    "df['TRAVEL_END_YMD'] = pd.to_datetime(df['TRAVEL_END_YMD'], errors='coerce')\n",
    "\n",
    "# 3. MVMN_NM 허용값 정의\n",
    "valid_movement = ['자가용', '대중교통 등']\n",
    "\n",
    "# 4. 결측치 탐지\n",
    "missing_travel_id = df[df['TRAVEL_ID'].isna()]\n",
    "missing_mvmn_nm = df[df['MVMN_NM'].isna()]\n",
    "missing_start = df[df['TRAVEL_START_YMD'].isna()]\n",
    "missing_end = df[df['TRAVEL_END_YMD'].isna()]\n",
    "\n",
    "# 5. 이상치 탐지\n",
    "invalid_mvmn_nm = df[~df['MVMN_NM'].isin(valid_movement) & df['MVMN_NM'].notna()]\n",
    "\n",
    "# 6. 요약 출력\n",
    "print(\"🧪 결측치 요약\")\n",
    "print(\"TRAVEL_ID 결측치:\", missing_travel_id.shape[0])\n",
    "print(\"MVMN_NM 결측치:\", missing_mvmn_nm.shape[0])\n",
    "print(\"TRAVEL_START_YMD 결측치 또는 이상치:\", missing_start.shape[0])\n",
    "print(\"TRAVEL_END_YMD 결측치 또는 이상치:\", missing_end.shape[0])\n",
    "\n",
    "print(\"\\n🧨 이상치 요약\")\n",
    "print(\"MVMN_NM 이상치 (허용값 이외):\", invalid_mvmn_nm.shape[0])"
   ]
  },
  {
   "cell_type": "markdown",
   "id": "f127beab",
   "metadata": {},
   "source": [
    "4. 이동내역 파일에서 필요 컬럼 뽑고 결측치랑 이상치 확인하기\n",
    "1 - 자가용(승용/승합/트럭 등등)\n",
    "2 - 렌터카(승용/승합/버스 등등)\n",
    "3 - 캠핑카(자차 및 렌탈)\n",
    "4 - 택시\n",
    "5 - 지하철\n",
    "6 - 고속전철(ITX 등)\n",
    "7 - KTX/SRT(고속열차)\n",
    "8 - 새마을/무궁화열차\n",
    "9 - 항공기\n",
    "10 - 배/선박\n",
    "11 - 관광버스\n",
    "12 - 시외/고속버스\n",
    "13 - 시내/마을버스\n",
    "14 - 자전거\n",
    "15 - 도보\n",
    "16 - 기타\n",
    "50 - 버스 + 지하철"
   ]
  },
  {
   "cell_type": "code",
   "execution_count": 9,
   "id": "cb81944a",
   "metadata": {},
   "outputs": [
    {
     "name": "stdout",
     "output_type": "stream",
     "text": [
      "✅ 이동내역_필요컬럼.csv 저장 완료!\n",
      "\n",
      "📌 결측치 개수\n",
      "TRAVEL_ID 결측치 수: 0\n",
      "START_VISIT_AREA_ID 결측치 수: 37974\n",
      "END_VISIT_AREA_ID 결측치 수: 3617\n",
      "MVMN_CD_1 결측치 수: 3617\n",
      "MVMN_CD_2 결측치 수: 35651\n"
     ]
    }
   ],
   "source": [
    "import pandas as pd\n",
    "\n",
    "# 1. 파일 경로 설정\n",
    "ts_path = r\"C:/Users/Owner/Desktop/MINIPROJECT_LOCAL/data/01-1.정식개방데이터/Training/01.원천데이터/TS_csv/tn_move_his_이동내역_B.csv\"\n",
    "vs_path = r\"C:/Users/Owner/Desktop/MINIPROJECT_LOCAL/data/01-1.정식개방데이터/Validation/01.원천데이터/VS_csv/tn_move_his_이동내역_B.csv\"\n",
    "\n",
    "# 2. 파일 불러오기\n",
    "ts_move = pd.read_csv(ts_path, encoding='utf-8-sig')\n",
    "vs_move = pd.read_csv(vs_path, encoding='utf-8-sig')\n",
    "\n",
    "# 3. 병합\n",
    "merged_move = pd.concat([ts_move, vs_move], ignore_index=True)\n",
    "\n",
    "# 4. 필요한 컬럼만 추출\n",
    "cols_to_keep = ['TRAVEL_ID', 'START_VISIT_AREA_ID', 'END_VISIT_AREA_ID', 'MVMN_CD_1', 'MVMN_CD_2']\n",
    "move_filtered = merged_move[cols_to_keep].copy()\n",
    "\n",
    "# 5. 저장 (선택)\n",
    "move_filtered.to_csv(\"이동내역_필요컬럼.csv\", index=False, encoding='utf-8-sig')\n",
    "print(\"✅ 이동내역_필요컬럼.csv 저장 완료!\")\n",
    "\n",
    "# 6. 결측치 수 확인\n",
    "print(\"\\n📌 결측치 개수\")\n",
    "for col in cols_to_keep:\n",
    "    print(f\"{col} 결측치 수:\", move_filtered[col].isna().sum())\n"
   ]
  },
  {
   "cell_type": "code",
   "execution_count": 7,
   "id": "0a951dd8",
   "metadata": {},
   "outputs": [
    {
     "name": "stdout",
     "output_type": "stream",
     "text": [
      "\n",
      "🚨 START 방문지가 2개 이상인 TRAVEL_ID 수: 17\n",
      "      TRAVEL_ID  START_VISIT_AREA_ID\n",
      "584   b_b001564                    2\n",
      "965   b_b003172                    2\n",
      "1509  b_b004859                    2\n",
      "1699  b_b005367                    2\n",
      "1754  b_b005573                    2\n"
     ]
    }
   ],
   "source": [
    "# TRAVEL_ID당 START_VISIT_AREA_ID 개수 확인\n",
    "check = move_filtered.groupby('TRAVEL_ID')['START_VISIT_AREA_ID'].nunique().reset_index()\n",
    "multi_start = check[check['START_VISIT_AREA_ID'] > 1]\n",
    "\n",
    "print(f\"\\n🚨 START 방문지가 2개 이상인 TRAVEL_ID 수: {len(multi_start)}\")\n",
    "if len(multi_start) > 0:\n",
    "    print(multi_start.head())\n",
    "else:\n",
    "    print(\"🎉 모든 TRAVEL_ID는 START 방문지가 1개입니다. 단일 출발지 구조가 확정되었습니다!\")"
   ]
  },
  {
   "cell_type": "markdown",
   "id": "c25c3fab",
   "metadata": {},
   "source": [
    "우선 합쳐볼게요\n",
    "1. 여행 + 방문지내역: TRAVEL_ID 기준 (→ 이동 기준 테이블 완성)\n",
    "\n",
    "2. 방문지정보와도 병합:\n",
    "이동내역의 방문지ID를 하나로 통일하고 합치는거지"
   ]
  },
  {
   "cell_type": "code",
   "execution_count": 11,
   "id": "ab4ba387",
   "metadata": {},
   "outputs": [
    {
     "name": "stdout",
     "output_type": "stream",
     "text": [
      "🎯 통합 완료: 여행 + 방문지 + 이동내역 병합 → 여행+방문지+이동내역_통합.csv\n"
     ]
    }
   ],
   "source": [
    "import pandas as pd\n",
    "\n",
    "# 1. 파일 불러오기\n",
    "travel_df = pd.read_csv(\"여행_필요컬럼.csv\", encoding='utf-8-sig')\n",
    "visit_df = pd.read_csv(\"방문지정보_필요컬럼.csv\", encoding='utf-8-sig')\n",
    "move_df = pd.read_csv(\"이동내역_필요컬럼.csv\", encoding='utf-8-sig')\n",
    "\n",
    "# 2. 여행 + 방문지정보 병합 (TRAVEL_ID 기준)\n",
    "travel_visit = pd.merge(visit_df, travel_df, on='TRAVEL_ID', how='left')\n",
    "\n",
    "# 3. 이동내역에서 VISIT_AREA_ID 하나로 정리\n",
    "start_part = move_df[['TRAVEL_ID', 'START_VISIT_AREA_ID', 'MVMN_CD_1', 'MVMN_CD_2']].copy()\n",
    "start_part = start_part.rename(columns={'START_VISIT_AREA_ID': 'VISIT_AREA_ID'})\n",
    "\n",
    "end_part = move_df[['TRAVEL_ID', 'END_VISIT_AREA_ID', 'MVMN_CD_1', 'MVMN_CD_2']].copy()\n",
    "end_part = end_part.rename(columns={'END_VISIT_AREA_ID': 'VISIT_AREA_ID'})\n",
    "\n",
    "move_long = pd.concat([start_part, end_part], ignore_index=True)\n",
    "move_long['이동정보존재'] = 1  # 마킹용 (필요 시)\n",
    "\n",
    "# 중복 제거 (TRAVEL_ID, VISIT_AREA_ID 기준)\n",
    "move_long = move_long.drop_duplicates(subset=['TRAVEL_ID', 'VISIT_AREA_ID'])\n",
    "\n",
    "# 4. travel_visit + 이동정보 병합 (TRAVEL_ID + VISIT_AREA_ID 기준)\n",
    "final_merged = pd.merge(travel_visit, move_long, on=['TRAVEL_ID', 'VISIT_AREA_ID'], how='left')\n",
    "\n",
    "# 5. 결과 저장\n",
    "final_merged.to_csv(\"여행+방문지+이동내역_통합.csv\", index=False, encoding='utf-8-sig')\n",
    "print(\"🎯 통합 완료: 여행 + 방문지 + 이동내역 병합 → 여행+방문지+이동내역_통합.csv\")"
   ]
  },
  {
   "cell_type": "markdown",
   "id": "32faa859",
   "metadata": {},
   "source": [
    "🚨🚨🚨🚨🚨잠깐스탑!!!!🚨🚨🚨🚨🚨\n",
    "################없던 일이 되어버린...###########3\n",
    "\n",
    "🎯 케이스 1:\n",
    "MVMN_NM == '자가용'인데\n",
    "VMN_NAME_1 또는 VMN_NAME_2가 '지하철' 또는 '버스+지하철'\n",
    "\n",
    "🎯 케이스 2:\n",
    "MVMN_NM == '대중교통 등'인데\n",
    "VMN_NAME_1 또는 VMN_NAME_2가 '자가용', '렌터카', '캠핑카'"
   ]
  },
  {
   "cell_type": "code",
   "execution_count": 7,
   "id": "213d2de5",
   "metadata": {},
   "outputs": [
    {
     "name": "stdout",
     "output_type": "stream",
     "text": [
      "🚗 케이스 1 (자가용인데 지하철 등 사용): 172건\n",
      "🚌 케이스 2 (대중교통인데 자가용류 사용): 2206건\n"
     ]
    }
   ],
   "source": [
    "# 🎯 케이스 1: MVMN_NM이 자가용인데, 실제 이동수단은 대중교통일 경우\n",
    "case1 = merged[\n",
    "    (merged['MVMN_NM'] == '자가용') &\n",
    "    (\n",
    "        (merged['MVMN_NAME_1'].isin(['지하철', '버스+지하철'])) |\n",
    "        (merged['MVMN_NAME_2'].isin(['지하철', '버스+지하철']))\n",
    "    )\n",
    "]\n",
    "\n",
    "# 🎯 케이스 2: MVMN_NM이 대중교통 등인데, 실제 이동수단은 자가용류일 경우\n",
    "case2 = merged[\n",
    "    (merged['MVMN_NM'] == '대중교통 등') &\n",
    "    (\n",
    "        (merged['MVMN_NAME_1'].isin(['자가용', '렌터카', '캠핑카'])) |\n",
    "        (merged['MVMN_NAME_2'].isin(['자가용', '렌터카', '캠핑카']))\n",
    "    )\n",
    "]\n",
    "\n",
    "# ✅ 결과 출력\n",
    "print(f\"🚗 케이스 1 (자가용인데 지하철 등 사용): {case1.shape[0]}건\")\n",
    "print(f\"🚌 케이스 2 (대중교통인데 자가용류 사용): {case2.shape[0]}건\")"
   ]
  },
  {
   "cell_type": "markdown",
   "id": "5d13c983",
   "metadata": {},
   "source": [
    "🚨🚨🚨🚨🚨다시 시작!!!!🚨🚨🚨🚨🚨\n",
    "1. 두 POI 마스터 파일을 병합\n",
    "→ poi_df\n",
    "\n",
    "2. 출발방문지_X/Y좌표가 비어있을 경우\n",
    "\n",
    "출발방문지_POI_ID 기준으로 poi_df에서 좌표 가져오기\n",
    "그래도 비어있으면 출발방문지_POI_NM 기준으로 좌표 가져오기\n",
    "\n",
    "3. 도착방문지_X/Y좌표도 같은 방식 적용"
   ]
  },
  {
   "cell_type": "code",
   "execution_count": 12,
   "id": "4b5d6ea6",
   "metadata": {},
   "outputs": [
    {
     "name": "stdout",
     "output_type": "stream",
     "text": [
      "✅ 각 POI 파일 로딩 완료\n",
      "✅ 중복 제거 및 인덱스 설정 완료\n",
      "📍 좌표 보완 완료 → 좌표보완완료_여행+방문지+이동내역.csv\n"
     ]
    }
   ],
   "source": [
    "import pandas as pd\n",
    "\n",
    "# 💡 통합 파일 불러오기 (파일명만 정확히 수정!)\n",
    "merged = pd.read_csv(\"여행+방문지+이동내역_통합.csv\", encoding='utf-8-sig')\n",
    "\n",
    "# 1. POI 마스터 파일 각각 필요한 컬럼만 읽기\n",
    "use_cols = ['POI_ID', 'POI_NM', 'X_COORD', 'Y_COORD']\n",
    "ts_path = r\"C:/Users/Owner/Desktop/MINIPROJECT_LOCAL/data/01-1.정식개방데이터/Training/01.원천데이터/TS_csv/tn_poi_master_POIMaster.csv\"\n",
    "vs_path = r\"C:/Users/Owner/Desktop/MINIPROJECT_LOCAL/data/01-1.정식개방데이터/Validation/01.원천데이터/VS_csv/tn_poi_master_POIMaster.csv\"\n",
    "\n",
    "ts_poi = pd.read_csv(ts_path, encoding='utf-8-sig', usecols=use_cols)\n",
    "vs_poi = pd.read_csv(vs_path, encoding='utf-8-sig', usecols=use_cols)\n",
    "\n",
    "print(\"✅ 각 POI 파일 로딩 완료\")\n",
    "\n",
    "# 2. 중복 제거\n",
    "ts_poi_id = ts_poi.drop_duplicates(subset='POI_ID', keep='first')\n",
    "vs_poi_id = vs_poi.drop_duplicates(subset='POI_ID', keep='first')\n",
    "\n",
    "ts_poi_nm = ts_poi.drop_duplicates(subset='POI_NM', keep='first')\n",
    "vs_poi_nm = vs_poi.drop_duplicates(subset='POI_NM', keep='first')\n",
    "\n",
    "# 3. 인덱스 설정\n",
    "ts_id_x = ts_poi_id.set_index('POI_ID')['X_COORD']\n",
    "ts_id_y = ts_poi_id.set_index('POI_ID')['Y_COORD']\n",
    "ts_nm_x = ts_poi_nm.set_index('POI_NM')['X_COORD']\n",
    "ts_nm_y = ts_poi_nm.set_index('POI_NM')['Y_COORD']\n",
    "\n",
    "vs_id_x = vs_poi_id.set_index('POI_ID')['X_COORD']\n",
    "vs_id_y = vs_poi_id.set_index('POI_ID')['Y_COORD']\n",
    "vs_nm_x = vs_poi_nm.set_index('POI_NM')['X_COORD']\n",
    "vs_nm_y = vs_poi_nm.set_index('POI_NM')['Y_COORD']\n",
    "\n",
    "print(\"✅ 중복 제거 및 인덱스 설정 완료\")\n",
    "\n",
    "# 4. 좌표 보완 (X좌표, Y좌표 컬럼이 존재한다고 가정)\n",
    "for id_x, id_y in [(ts_id_x, ts_id_y), (vs_id_x, vs_id_y)]:\n",
    "    merged['X_COORD'] = merged['X_COORD'].fillna(merged['POI_ID'].map(id_x))\n",
    "    merged['Y_COORD'] = merged['Y_COORD'].fillna(merged['POI_ID'].map(id_y))\n",
    "\n",
    "for nm_x, nm_y in [(ts_nm_x, ts_nm_y), (vs_nm_x, vs_nm_y)]:\n",
    "    merged['X_COORD'] = merged['X_COORD'].fillna(merged['POI_NM'].map(nm_x))\n",
    "    merged['Y_COORD'] = merged['Y_COORD'].fillna(merged['POI_NM'].map(nm_y))\n",
    "\n",
    "# 5. 결과 저장\n",
    "merged.to_csv(\"좌표보완완료_여행+방문지+이동내역.csv\", index=False, encoding='utf-8-sig')\n",
    "print(\"📍 좌표 보완 완료 → 좌표보완완료_여행+방문지+이동내역.csv\")"
   ]
  },
  {
   "cell_type": "code",
   "execution_count": 7,
   "id": "03752326",
   "metadata": {},
   "outputs": [
    {
     "name": "stdout",
     "output_type": "stream",
     "text": [
      "📊 결측치 확인 결과\n",
      "\n",
      "TRAVEL_ID 결측치: 0\n",
      "VISIT_AREA_ID 결측치: 0\n",
      "VISIT_ORDER 결측치: 0\n",
      "X_COORD 결측치: 293\n",
      "Y_COORD 결측치: 293\n",
      "X/Y 좌표도 없고 POI_ID/POI_NM도 없는 행 개수: 0\n",
      "MVMN_NM이 결측인 TRAVEL_ID 개수 (중복 제거): 1092\n"
     ]
    }
   ],
   "source": [
    "import pandas as pd\n",
    "\n",
    "# 📂 1. 파일 불러오기\n",
    "df = pd.read_csv(\"좌표보완완료_여행+방문지+이동내역.csv\", encoding='utf-8-sig')\n",
    "\n",
    "print(\"📊 결측치 확인 결과\\n\")\n",
    "\n",
    "# 1. TRAVEL_ID 결측치 개수\n",
    "print(f\"TRAVEL_ID 결측치: {df['TRAVEL_ID'].isna().sum()}\")\n",
    "\n",
    "# 2. VISIT_AREA_ID 결측치 개수\n",
    "print(f\"VISIT_AREA_ID 결측치: {df['VISIT_AREA_ID'].isna().sum()}\")\n",
    "\n",
    "# 3. VISIT_ORDER 결측치 개수\n",
    "print(f\"VISIT_ORDER 결측치: {df['VISIT_ORDER'].isna().sum()}\")\n",
    "\n",
    "# 4. X/Y 좌표 결측치 개수\n",
    "print(f\"X_COORD 결측치: {df['X_COORD'].isna().sum()}\")\n",
    "print(f\"Y_COORD 결측치: {df['Y_COORD'].isna().sum()}\")\n",
    "\n",
    "# 5. 좌표 결측 + POI_ID, POI_NM 모두 결측인 행 수\n",
    "coord_and_poi_null = df[\n",
    "    df['X_COORD'].isna() &\n",
    "    df['Y_COORD'].isna() &\n",
    "    df['POI_ID'].isna() &\n",
    "    df['POI_NM'].isna()\n",
    "]\n",
    "print(f\"X/Y 좌표도 없고 POI_ID/POI_NM도 없는 행 개수: {len(coord_and_poi_null)}\")\n",
    "\n",
    "# 6. MVMN_NM 결측치: TRAVEL_ID당 1번만 카운트\n",
    "mvmn_null_travel = df[df['MVMN_NM'].isna()]['TRAVEL_ID'].dropna().nunique()\n",
    "print(f\"MVMN_NM이 결측인 TRAVEL_ID 개수 (중복 제거): {mvmn_null_travel}\")"
   ]
  },
  {
   "cell_type": "markdown",
   "id": "869922a5",
   "metadata": {},
   "source": [
    "방문지 수 3개 이하 확인"
   ]
  },
  {
   "cell_type": "code",
   "execution_count": 4,
   "id": "fe84a99d",
   "metadata": {},
   "outputs": [
    {
     "name": "stdout",
     "output_type": "stream",
     "text": [
      "기초 통계:\n",
      "count    4000.000000\n",
      "mean       10.401750\n",
      "std         5.720448\n",
      "min         1.000000\n",
      "25%         6.000000\n",
      "50%         9.000000\n",
      "75%        13.000000\n",
      "max        48.000000\n",
      "Name: VISIT_AREA_ID, dtype: float64\n",
      "\n",
      "방문지 수 별 인원 수:\n",
      "VISIT_AREA_ID\n",
      "1       3\n",
      "2      31\n",
      "3      92\n",
      "4     256\n",
      "5     422\n",
      "6     343\n",
      "7     345\n",
      "8     330\n",
      "9     288\n",
      "10    273\n",
      "11    246\n",
      "12    202\n",
      "13    211\n",
      "14    145\n",
      "15    143\n",
      "16    104\n",
      "17    107\n",
      "18     88\n",
      "19     63\n",
      "20     56\n",
      "21     48\n",
      "22     45\n",
      "23     35\n",
      "24     21\n",
      "25     27\n",
      "26     16\n",
      "27     10\n",
      "28     13\n",
      "29      8\n",
      "30      7\n",
      "31      3\n",
      "32      4\n",
      "33      2\n",
      "34      3\n",
      "35      2\n",
      "36      1\n",
      "37      1\n",
      "39      1\n",
      "41      1\n",
      "42      1\n",
      "43      1\n",
      "46      1\n",
      "48      1\n",
      "Name: count, dtype: int64\n"
     ]
    },
    {
     "data": {
      "image/png": "[encoded data removed]",
      "text/plain": [
       "<Figure size 640x480 with 1 Axes>"
      ]
     },
     "metadata": {},
     "output_type": "display_data"
    },
    {
     "name": "stdout",
     "output_type": "stream",
     "text": [
      "\n",
      "방문지 수가 3개 이하인 사람 수: 126\n",
      "\n",
      "방문지 수가 4개인 사람 수: 256\n",
      "\n",
      "방문지 수가 5개인 사람 수: 422\n"
     ]
    }
   ],
   "source": [
    "import pandas as pd\n",
    "import matplotlib.pyplot as plt\n",
    "\n",
    "merged_df = pd.read_csv('좌표보완완료_여행+방문지+이동내역.csv')\n",
    "\n",
    "# 3. TRAVEL_ID별 방문지 개수 (고유 VISIT_AREA_ID 수)\n",
    "visit_counts = merged_df.groupby('TRAVEL_ID')['VISIT_AREA_ID'].nunique()\n",
    "\n",
    "# 4. 기초 통계 출력\n",
    "print(\"기초 통계:\")\n",
    "print(visit_counts.describe())\n",
    "\n",
    "# 5. 방문지 수 분포 확인\n",
    "print(\"\\n방문지 수 별 인원 수:\")\n",
    "print(visit_counts.value_counts().sort_index())\n",
    "\n",
    "# 6. 히스토그램 시각화\n",
    "visit_counts.hist(bins=20)\n",
    "plt.title(\"Number of Visit Areas per Travel\")\n",
    "plt.xlabel(\"Number of Visits\")\n",
    "plt.ylabel(\"Number of People\")\n",
    "plt.grid(True)\n",
    "plt.show()\n",
    "\n",
    "# 7. 방문지 수 3개 이하인 사람 수 확인\n",
    "num_below_or_equal_3 = (visit_counts <= 3).sum()\n",
    "print(f\"\\n방문지 수가 3개 이하인 사람 수: {num_below_or_equal_3}\")\n",
    "num_below_or_equal_4 = (visit_counts == 4).sum()\n",
    "print(f\"\\n방문지 수가 4개인 사람 수: {num_below_or_equal_4}\")\n",
    "num_below_or_equal_5 = (visit_counts == 5).sum()\n",
    "print(f\"\\n방문지 수가 5개인 사람 수: {num_below_or_equal_5}\")"
   ]
  },
  {
   "cell_type": "code",
   "execution_count": 5,
   "id": "95e92b21",
   "metadata": {},
   "outputs": [
    {
     "name": "stdout",
     "output_type": "stream",
     "text": [
      "중복된 순서 수: 0\n"
     ]
    }
   ],
   "source": [
    "dups = merged_df.duplicated(subset=['TRAVEL_ID', 'VISIT_ORDER'])\n",
    "print(f\"중복된 순서 수: {dups.sum()}\")"
   ]
  },
  {
   "cell_type": "code",
   "execution_count": 29,
   "id": "e5ce1be6",
   "metadata": {},
   "outputs": [
    {
     "name": "stdout",
     "output_type": "stream",
     "text": [
      "🚗 추정 주요 이동수단 분포 (TRAVEL_ID 기준):\n",
      "추정이동수단\n",
      "자가용     2589\n",
      "기타       809\n",
      "대중교통     598\n",
      "Name: count, dtype: int64\n"
     ]
    },
    {
     "data": {
      "image/png": "[encoded data removed]",
      "text/plain": [
       "<Figure size 600x400 with 1 Axes>"
      ]
     },
     "metadata": {},
     "output_type": "display_data"
    },
    {
     "name": "stdout",
     "output_type": "stream",
     "text": [
      "⚠️ 이동수단 코드 모두 결측인 TRAVEL_ID 수: 4\n",
      "✅ 전체 TRAVEL_ID 수: 4000\n"
     ]
    },
    {
     "name": "stderr",
     "output_type": "stream",
     "text": [
      "C:\\Users\\Owner\\AppData\\Local\\Temp\\ipykernel_23104\\1777965687.py:53: DeprecationWarning: DataFrameGroupBy.apply operated on the grouping columns. This behavior is deprecated, and in a future version of pandas the grouping columns will be excluded from the operation. Either pass `include_groups=False` to exclude the groupings or explicitly select the grouping columns after groupby to silence this warning.\n",
      "  both_missing = df.groupby('TRAVEL_ID').apply(\n"
     ]
    }
   ],
   "source": [
    "import pandas as pd\n",
    "import matplotlib.pyplot as plt\n",
    "\n",
    "df = pd.read_csv(\"좌표보완완료_여행+방문지+이동내역.csv\")\n",
    "\n",
    "# ✅ 이동수단 코드 → 이동수단 명칭으로 변환 함수\n",
    "def map_transport(code):\n",
    "    if pd.isna(code):\n",
    "        return None\n",
    "    elif code in [1, 2, 3, 14]:\n",
    "        return '자가용'\n",
    "    elif code in [4, 5, 6, 7, 8, 9, 10, 11, 12, 13, 50]:\n",
    "        return '대중교통'\n",
    "    else:\n",
    "        return '기타'\n",
    "\n",
    "# ✅ 이동수단명 컬럼 생성\n",
    "df['MVMN_TYPE_1'] = df['MVMN_CD_1'].apply(map_transport)\n",
    "df['MVMN_TYPE_2'] = df['MVMN_CD_2'].apply(map_transport)\n",
    "\n",
    "# ✅ 긴 형태로 변환하고 결측 제거\n",
    "melted = pd.melt(\n",
    "    df,\n",
    "    id_vars='TRAVEL_ID',\n",
    "    value_vars=['MVMN_TYPE_1', 'MVMN_TYPE_2'],\n",
    "    value_name='MODE'\n",
    ").dropna(subset=['MODE'])\n",
    "\n",
    "# ✅ 각 TRAVEL_ID마다 추정 이동수단(최빈값) 구하기\n",
    "main_mode = (\n",
    "    melted.groupby('TRAVEL_ID')['MODE']\n",
    "    .agg(lambda x: x.value_counts().sort_values(ascending=False).index[0])\n",
    "    .reset_index()\n",
    "    .rename(columns={'MODE': '추정이동수단'})\n",
    ")\n",
    "\n",
    "# ✅ 추정 결과 분포 보기\n",
    "print(\"🚗 추정 주요 이동수단 분포 (TRAVEL_ID 기준):\")\n",
    "print(main_mode['추정이동수단'].value_counts())\n",
    "\n",
    "# ✅ 시각화\n",
    "plt.figure(figsize=(6, 4))\n",
    "main_mode['추정이동수단'].value_counts().plot(kind='bar', color='skyblue')\n",
    "plt.title(\"추정 주요 이동수단 분포 (TRAVEL_ID 기준)\")\n",
    "plt.xlabel(\"이동수단 분류\")\n",
    "plt.ylabel(\"여행자 수\")\n",
    "plt.xticks(rotation=0)\n",
    "plt.tight_layout()\n",
    "plt.show()\n",
    "\n",
    "# ✅ 결측치인 TRAVEL_ID 수 세기\n",
    "# → MVMN_CD_1과 MVMN_CD_2가 모두 결측인 TRAVEL_ID\n",
    "both_missing = df.groupby('TRAVEL_ID').apply(\n",
    "    lambda x: x['MVMN_CD_1'].isna().all() and x['MVMN_CD_2'].isna().all()\n",
    ")\n",
    "\n",
    "print(\"⚠️ 이동수단 코드 모두 결측인 TRAVEL_ID 수:\", both_missing.sum())\n",
    "print(\"✅ 전체 TRAVEL_ID 수:\", df['TRAVEL_ID'].nunique())"
   ]
  },
  {
   "cell_type": "code",
   "execution_count": 31,
   "id": "70922b1b",
   "metadata": {},
   "outputs": [
    {
     "name": "stdout",
     "output_type": "stream",
     "text": [
      "⚖️ 이동수단 추정 시 동률인 TRAVEL_ID 수: 0\n"
     ]
    }
   ],
   "source": [
    "import pandas as pd\n",
    "\n",
    "df = pd.read_csv(\"좌표보완완료_여행+방문지+이동내역.csv\")\n",
    "\n",
    "# 이동수단 분류 함수 (기존 정의 재사용)\n",
    "def map_transport(code):\n",
    "    if code in [1, 2, 3, 14]:\n",
    "        return '자가용'\n",
    "    elif code in [4, 5, 6, 7, 8, 9, 10, 11, 12, 13, 50]:\n",
    "        return '대중교통 등'\n",
    "    elif code in [15, 16]:\n",
    "        return '기타'\n",
    "    else:\n",
    "        return None\n",
    "\n",
    "# 복사본에서 MVMN_CD_1,2를 이동수단 분류로 매핑\n",
    "df = final_merged.copy()\n",
    "df['MVMN_TYPE_1'] = df['MVMN_CD_1'].apply(map_transport)\n",
    "df['MVMN_TYPE_2'] = df['MVMN_CD_2'].apply(map_transport)\n",
    "\n",
    "# 두 컬럼을 합쳐 긴 형태로 만들고 결측 제거\n",
    "melted = pd.melt(df, id_vars='TRAVEL_ID', value_vars=['MVMN_TYPE_1', 'MVMN_TYPE_2'], value_name='MODE')\n",
    "melted = melted.dropna(subset=['MODE'])\n",
    "\n",
    "# 각 TRAVEL_ID에서 이동수단별 빈도수 계산\n",
    "mode_counts = melted.groupby(['TRAVEL_ID', 'MODE']).size().unstack(fill_value=0)\n",
    "\n",
    "# 빈도가 2개이고, 모두 1회씩 등장한 경우만 추출\n",
    "tied = mode_counts[(mode_counts > 0).sum(axis=1) == 2]     # 2종류가 존재\n",
    "tied = tied[(tied == 1).all(axis=1)]                        # 둘 다 1번씩 등장\n",
    "\n",
    "print(f\"⚖️ 이동수단 추정 시 동률인 TRAVEL_ID 수: {len(tied)}\")"
   ]
  },
  {
   "cell_type": "code",
   "execution_count": 28,
   "id": "d5ce4dd8",
   "metadata": {},
   "outputs": [
    {
     "name": "stdout",
     "output_type": "stream",
     "text": [
      "⚠️ 이동수단 코드 모두 결측인 TRAVEL_ID 수: 4\n",
      "✅ 전체 TRAVEL_ID 수: 4000\n",
      "📌 예시 - 이동수단 있는 TRAVEL_ID:\n",
      "['b_b001138' 'b_b000246' 'b_b004595' 'b_b005102' 'b_b005081']\n"
     ]
    },
    {
     "name": "stderr",
     "output_type": "stream",
     "text": [
      "C:\\Users\\Owner\\AppData\\Local\\Temp\\ipykernel_23104\\2399217811.py:2: DeprecationWarning: DataFrameGroupBy.apply operated on the grouping columns. This behavior is deprecated, and in a future version of pandas the grouping columns will be excluded from the operation. Either pass `include_groups=False` to exclude the groupings or explicitly select the grouping columns after groupby to silence this warning.\n",
      "  missing_ids = df.groupby('TRAVEL_ID').apply(\n"
     ]
    }
   ],
   "source": [
    "# 이동수단 코드 모두 결측인 TRAVEL_ID 수\n",
    "missing_ids = df.groupby('TRAVEL_ID').apply(\n",
    "    lambda x: x['MVMN_CD_1'].isna().all() and x['MVMN_CD_2'].isna().all()\n",
    ")\n",
    "\n",
    "print(\"⚠️ 이동수단 코드 모두 결측인 TRAVEL_ID 수:\", missing_ids.sum())\n",
    "print(\"✅ 전체 TRAVEL_ID 수:\", df['TRAVEL_ID'].nunique())\n",
    "\n",
    "# 👉 실제로 결측치 아닌 TRAVEL_ID 5개만 샘플로 출력\n",
    "print(\"📌 예시 - 이동수단 있는 TRAVEL_ID:\")\n",
    "print(df[~df['TRAVEL_ID'].isin(missing_ids[missing_ids].index)]['TRAVEL_ID'].unique()[:5])"
   ]
  },
  {
   "cell_type": "markdown",
   "id": "e331a83a",
   "metadata": {},
   "source": [
    "MVMN_CD_1 / MVMN_CD_2를 자가용/대중교통/기타로 분류\n",
    "\n",
    "TRAVEL_ID별로 가장 많이 등장한 그룹(최빈값) 계산\n",
    "\n",
    "MVMN_NM이 결측일 경우, 해당 최빈값으로 보완"
   ]
  },
  {
   "cell_type": "code",
   "execution_count": 21,
   "id": "e55da16a",
   "metadata": {},
   "outputs": [
    {
     "name": "stdout",
     "output_type": "stream",
     "text": [
      "📊 추정 정확도: 58.58%\n",
      "🕳️ 남은 MVMN_NM 결측치 수: 0\n",
      "✅ 이동수단 보완 완료 파일 저장됨.\n"
     ]
    }
   ],
   "source": [
    "import pandas as pd\n",
    "import matplotlib.pyplot as plt\n",
    "\n",
    "# 자가용 / 대중교통 등 분류 함수 (기타 → 대중교통 등 포함)\n",
    "def map_transport(code):\n",
    "    if code in [1, 2, 3, 14]:\n",
    "        return '자가용'\n",
    "    else:\n",
    "        return '대중교통 등'\n",
    "\n",
    "# 복사본 생성\n",
    "df = final_merged.copy()\n",
    "\n",
    "# 1, 2 이동수단 코드 → 범주로 매핑\n",
    "df['MVMN_TYPE_1'] = df['MVMN_CD_1'].apply(map_transport)\n",
    "df['MVMN_TYPE_2'] = df['MVMN_CD_2'].apply(map_transport)\n",
    "\n",
    "# 긴 형태로 변환 후 결측 제거\n",
    "melted = pd.melt(df, id_vars='TRAVEL_ID', value_vars=['MVMN_TYPE_1', 'MVMN_TYPE_2'], value_name='MODE')\n",
    "melted = melted.dropna(subset=['MODE'])\n",
    "\n",
    "# 최빈값 추정\n",
    "main_mode = (\n",
    "    melted.groupby('TRAVEL_ID')['MODE']\n",
    "    .agg(lambda x: x.value_counts().index[0])\n",
    "    .reset_index()\n",
    "    .rename(columns={'MODE': '추정이동수단'})\n",
    ")\n",
    "\n",
    "# 원본에 merge 후 결측만 보완\n",
    "df = df.merge(main_mode, on='TRAVEL_ID', how='left')\n",
    "df['MVMN_NM'] = df['MVMN_NM'].fillna(df['추정이동수단'])\n",
    "\n",
    "# 정확도 평가: 원래 값과 추정값 일치율\n",
    "known = df[~df['추정이동수단'].isna() & ~df['MVMN_NM'].isna()]\n",
    "accuracy = (known['MVMN_NM'] == known['추정이동수단']).mean()\n",
    "print(f\"📊 추정 정확도: {accuracy:.2%}\")\n",
    "\n",
    "# 결측치 수 확인\n",
    "missing_count = df['MVMN_NM'].isna().sum()\n",
    "print(\"🕳️ 남은 MVMN_NM 결측치 수:\", missing_count)\n",
    "\n",
    "# 결과 저장\n",
    "df.to_csv(\"이동수단보완완료_통합파일.csv\", index=False, encoding='utf-8-sig')\n",
    "print(\"✅ 이동수단 보완 완료 파일 저장됨.\")\n",
    "\n"
   ]
  },
  {
   "cell_type": "code",
   "execution_count": 22,
   "id": "8a731c7d",
   "metadata": {},
   "outputs": [
    {
     "data": {
      "image/png": "[encoded data removed]",
      "text/plain": [
       "<Figure size 600x400 with 1 Axes>"
      ]
     },
     "metadata": {},
     "output_type": "display_data"
    },
    {
     "name": "stdout",
     "output_type": "stream",
     "text": [
      "이동수단별 여행자 수 분포 (TRAVEL_ID 기준):\n",
      "MVMN_NM\n",
      "대중교통 등    2029\n",
      "자가용       1971\n",
      "Name: count, dtype: int64\n"
     ]
    }
   ],
   "source": [
    "# TRAVEL_ID 기준으로 대표값 하나씩만 남기기\n",
    "unique_travel = df[['TRAVEL_ID', 'MVMN_NM']].drop_duplicates()\n",
    "\n",
    "# 이동수단 분포 시각화\n",
    "plt.figure(figsize=(6, 4))\n",
    "unique_travel['MVMN_NM'].value_counts().plot(kind='bar', color='skyblue')\n",
    "plt.title(\"추정 주요 이동수단 분포 (TRAVEL_ID 기준)\")\n",
    "plt.xlabel(\"이동수단 분류\")\n",
    "plt.ylabel(\"여행자 수\")\n",
    "plt.xticks(rotation=0)\n",
    "plt.tight_layout()\n",
    "plt.show()\n",
    "\n",
    "# 숫자로도 확인\n",
    "print(\"이동수단별 여행자 수 분포 (TRAVEL_ID 기준):\")\n",
    "print(unique_travel['MVMN_NM'].value_counts())\n"
   ]
  },
  {
   "cell_type": "code",
   "execution_count": 23,
   "id": "71023181",
   "metadata": {},
   "outputs": [
    {
     "name": "stdout",
     "output_type": "stream",
     "text": [
      "전체 TRAVEL_ID 고유 개수: 4000\n"
     ]
    }
   ],
   "source": [
    "# TRAVEL_ID 고유 개수 확인\n",
    "num_unique_travel_ids = df['TRAVEL_ID'].nunique()\n",
    "print(\"전체 TRAVEL_ID 고유 개수:\", num_unique_travel_ids)"
   ]
  },
  {
   "cell_type": "code",
   "execution_count": 24,
   "id": "2ed16704",
   "metadata": {},
   "outputs": [
    {
     "name": "stdout",
     "output_type": "stream",
     "text": [
      "MVMN_NM이 여러 개인 TRAVEL_ID 개수: 0\n"
     ]
    }
   ],
   "source": [
    "# TRAVEL_ID당 MVMN_NM 값이 여러 개인 경우 확인\n",
    "conflict = df[['TRAVEL_ID', 'MVMN_NM']].dropna().drop_duplicates()\n",
    "multi_nm = conflict['TRAVEL_ID'].value_counts()\n",
    "multi_nm = multi_nm[multi_nm > 1]\n",
    "print(\"MVMN_NM이 여러 개인 TRAVEL_ID 개수:\", len(multi_nm))"
   ]
  },
  {
   "cell_type": "code",
   "execution_count": 32,
   "id": "8730d42a",
   "metadata": {},
   "outputs": [
    {
     "name": "stdout",
     "output_type": "stream",
     "text": [
      "✅ 각 POI 파일 로딩 완료\n",
      "📌 X/Y 좌표가 결측인 POI 목록:\n",
      "Empty DataFrame\n",
      "Columns: [POI_ID, POI_NM]\n",
      "Index: []\n",
      "\n",
      "총 결측 POI 수: 0개\n"
     ]
    }
   ],
   "source": [
    "# 필요한 컬럼만 로딩\n",
    "use_cols = ['POI_ID', 'POI_NM', 'X_COORD', 'Y_COORD']\n",
    "ts_path = r\"C:/Users/Owner/Desktop/MINIPROJECT_LOCAL/data/01-1.정식개방데이터/Training/01.원천데이터/TS_csv/tn_poi_master_POIMaster.csv\"\n",
    "vs_path = r\"C:/Users/Owner/Desktop/MINIPROJECT_LOCAL/data/01-1.정식개방데이터/Validation/01.원천데이터/VS_csv/tn_poi_master_POIMaster.csv\"\n",
    "\n",
    "# 각각 로딩\n",
    "ts_poi = pd.read_csv(ts_path, encoding='utf-8-sig', usecols=use_cols)\n",
    "vs_poi = pd.read_csv(vs_path, encoding='utf-8-sig', usecols=use_cols)\n",
    "print(\"✅ 각 POI 파일 로딩 완료\")\n",
    "\n",
    "# 두 파일을 하나로 합침\n",
    "poi_master_df = pd.concat([ts_poi, vs_poi], ignore_index=True)\n",
    "\n",
    "# X/Y 좌표가 모두 결측치인 경우만 필터링\n",
    "missing_coords = poi_master_df[\n",
    "    poi_master_df['X_COORD'].isna() & poi_master_df['Y_COORD'].isna()\n",
    "]\n",
    "\n",
    "# POI_ID와 POI_NM만 보기 좋게 출력\n",
    "missing_coords_info = missing_coords[['POI_ID', 'POI_NM']]\n",
    "\n",
    "# 결과 출력\n",
    "print(\"📌 X/Y 좌표가 결측인 POI 목록:\")\n",
    "print(missing_coords_info)\n",
    "\n",
    "# 결측치 개수 출력\n",
    "print(f\"\\n총 결측 POI 수: {len(missing_coords_info)}개\")"
   ]
  },
  {
   "cell_type": "code",
   "execution_count": 34,
   "id": "c226ed98",
   "metadata": {},
   "outputs": [
    {
     "name": "stderr",
     "output_type": "stream",
     "text": [
      "C:\\Users\\Owner\\AppData\\Local\\Temp\\ipykernel_23104\\2550491195.py:1: DtypeWarning: Columns (4) have mixed types. Specify dtype option on import or set low_memory=False.\n",
      "  df = pd.read_csv(\"이동수단보완완료_통합파일.csv\")\n"
     ]
    },
    {
     "name": "stdout",
     "output_type": "stream",
     "text": [
      "📌 좌표 결측치 남은 행 수: 293개\n",
      "                POI_ID          POI_NM X_COORD Y_COORD\n",
      "179  POI01000000C7HFS3            힐하우스     NaN     NaN\n",
      "289  POI01000000BY8CUJ           한국아파트     NaN     NaN\n",
      "376  POI01000000EHHHF4         힐스테이트초전     NaN     NaN\n",
      "497  POI010000006N54NL       효원공원관리사무소     NaN     NaN\n",
      "519  POI01000000C1XKWM  해운두산2차아파트/205동     NaN     NaN\n",
      "❓ POI_ID가 결측인 행 수: 23592\n",
      "📌 보완 후 남은 좌표 결측치 수:\n",
      "X_COORD: 293\n",
      "Y_COORD: 293\n",
      "❌ POI Master에도 없는 POI_ID 수: 191개\n"
     ]
    }
   ],
   "source": [
    "df = pd.read_csv(\"이동수단보완완료_통합파일.csv\")\n",
    "\n",
    "missing_coords = merged[merged['X_COORD'].isna() | merged['Y_COORD'].isna()]\n",
    "print(f\"📌 좌표 결측치 남은 행 수: {len(missing_coords)}개\")\n",
    "print(missing_coords[['POI_ID', 'POI_NM', 'X_COORD', 'Y_COORD']].head())\n",
    "\n",
    "missing_id = merged[merged['POI_ID'].isna()]\n",
    "print(f\"❓ POI_ID가 결측인 행 수: {len(missing_id)}\")\n",
    "\n",
    "merged['POI_NM'] = merged['POI_NM'].str.strip()\n",
    "ts_nm_x.index = ts_nm_x.index.str.strip()\n",
    "ts_nm_y.index = ts_nm_y.index.str.strip()\n",
    "vs_nm_x.index = vs_nm_x.index.str.strip()\n",
    "vs_nm_y.index = vs_nm_y.index.str.strip()\n",
    "\n",
    "print(\"📌 보완 후 남은 좌표 결측치 수:\")\n",
    "print(\"X_COORD:\", merged['X_COORD'].isna().sum())\n",
    "print(\"Y_COORD:\", merged['Y_COORD'].isna().sum())\n",
    "\n",
    "# 공백 제거\n",
    "merged['POI_NM'] = merged['POI_NM'].astype(str).str.strip()\n",
    "\n",
    "ts_nm_x.index = ts_nm_x.index.str.strip()\n",
    "ts_nm_y.index = ts_nm_y.index.str.strip()\n",
    "vs_nm_x.index = vs_nm_x.index.str.strip()\n",
    "vs_nm_y.index = vs_nm_y.index.str.strip()\n",
    "\n",
    "# POI_ID 기준으로도 보완되지 않은 것들\n",
    "missing_poi_id_coords = merged[\n",
    "    merged['X_COORD'].isna() &\n",
    "    merged['POI_ID'].notna()\n",
    "]\n",
    "\n",
    "# 이 중에서 POI Master에 있는 ID인지 확인\n",
    "missing_ids = set(missing_poi_id_coords['POI_ID'].unique())\n",
    "ts_ids = set(ts_poi['POI_ID'])\n",
    "vs_ids = set(vs_poi['POI_ID'])\n",
    "\n",
    "missing_not_in_master = missing_ids - ts_ids - vs_ids\n",
    "print(f\"❌ POI Master에도 없는 POI_ID 수: {len(missing_not_in_master)}개\")"
   ]
  },
  {
   "cell_type": "code",
   "execution_count": null,
   "id": "e99b9b2d",
   "metadata": {},
   "outputs": [],
   "source": [
    "import pandas as pd\n",
    "\n",
    "path_ts = r\"C:/Users/Owner/Desktop/MINIPROJECT_LOCAL/data/01-1.정식개방데이터/Training/01.원천데이터/TS_csv/tn_move_his_이동내역_B.csv\"\n",
    "path_vs = r\"C:/Users/Owner/Desktop/MINIPROJECT_LOCAL/data/01-1.정식개방데이터/Validation/01.원천데이터/VS_csv/tn_move_his_이동내역_B.csv\"\n",
    "\n",
    "move_ts = pd.read_csv(path_ts)\n",
    "move_vs = pd.read_csv(path_vs)\n",
    "\n",
    "# 통합\n",
    "move_all = pd.concat([move_ts, move_vs], ignore_index=True)\n",
    "\n",
    "# START → VISIT_AREA_ID\n",
    "start_df = move_all[['TRAVEL_ID', 'START_VISIT_AREA_ID', 'MVMN_CD_1', 'MVMN_CD_2']].copy()\n",
    "start_df = start_df.rename(columns={'START_VISIT_AREA_ID': 'VISIT_AREA_ID'})\n",
    "\n",
    "# END → VISIT_AREA_ID\n",
    "end_df = move_all[['TRAVEL_ID', 'END_VISIT_AREA_ID', 'MVMN_CD_1', 'MVMN_CD_2']].copy()\n",
    "end_df = end_df.rename(columns={'END_VISIT_AREA_ID': 'VISIT_AREA_ID'})\n",
    "\n",
    "# 연결\n",
    "move_unified = pd.concat([start_df, end_df], ignore_index=True)\n",
    "\n",
    "# 중복 제거\n",
    "move_unified = move_unified.drop_duplicates(subset=['TRAVEL_ID', 'VISIT_AREA_ID'])\n"
   ]
  },
  {
   "cell_type": "code",
   "execution_count": null,
   "id": "9803b666",
   "metadata": {},
   "outputs": [],
   "source": [
    "import pandas as pd\n",
    "\n",
    "# 📂 1. 파일 불러오기\n",
    "df = pd.read_csv(\"좌표보완완료_여행+방문지+이동내역.csv\", encoding='utf-8-sig')\n",
    "\n",
    "# 📌 2. 이동수단 코드 분류 기준\n",
    "private_car = [1, 2, 3, 14]\n",
    "public_transport = [4, 5, 6, 7, 8, 9, 10, 11, 12, 13, 50]\n",
    "etc = [15, 16]\n",
    "\n",
    "# 🏷️ 3. MVMN_TYPE 컬럼 생성\n",
    "def classify_mvmn(code):\n",
    "    if pd.isna(code):\n",
    "        return '결측'\n",
    "    try:\n",
    "        code = int(code)\n",
    "        if code in private_car:\n",
    "            return '자가용'\n",
    "        elif code in public_transport:\n",
    "            return '대중교통 등'\n",
    "        elif code in etc:\n",
    "            return '기타'\n",
    "        else:\n",
    "            return '기타'  # 정의 외 값도 기타 처리\n",
    "    except:\n",
    "        return '오류'  # 숫자 변환 불가한 경우\n",
    "\n",
    "df['MVMN_TYPE'] = df['MVMN_CD_1'].apply(classify_mvmn)\n",
    "\n",
    "# 💾 4. 결과 저장\n",
    "df.to_csv(\"이동수단분류포함_통합파일.csv\", index=False, encoding='utf-8-sig')\n",
    "print(\"✅ 이동수단 분류(MVMN_TYPE) 컬럼 추가 완료 → 이동수단분류포함_통합파일.csv\")"
   ]
  },
  {
   "cell_type": "markdown",
   "id": "3d0496c3",
   "metadata": {},
   "source": [
    "출발방문지 존재하는 경우: START_VISIT_AREA_ID가 결측치가 아닌 경우\n",
    "그 중에서 출발방문지_X좌표, 출발방문지_Y좌표의 결측치 개수\n",
    "\n",
    "도착방문지 존재하는 경우: END_VISIT_AREA_ID가 결측치가 아닌 경우\n",
    "그 중에서 도착방문지_X좌표, 도착방문지_Y좌표의 결측치 개수"
   ]
  },
  {
   "cell_type": "code",
   "execution_count": 9,
   "id": "9bf1a903",
   "metadata": {},
   "outputs": [
    {
     "name": "stdout",
     "output_type": "stream",
     "text": [
      "🚩 출발방문지 존재하는 경우:\n",
      "출발방문지_X좌표 결측치 수: 139\n",
      "출발방문지_Y좌표 결측치 수: 139\n",
      "\n",
      "🏁 도착방문지 존재하는 경우:\n",
      "도착방문지_X좌표 결측치 수: 128\n",
      "도착방문지_Y좌표 결측치 수: 128\n"
     ]
    }
   ],
   "source": [
    "# 출발방문지가 존재하는 경우\n",
    "start_exists = merged[merged['START_VISIT_AREA_ID'].notna()]\n",
    "\n",
    "missing_start_x = start_exists['출발방문지_X좌표'].isna().sum()\n",
    "missing_start_y = start_exists['출발방문지_Y좌표'].isna().sum()\n",
    "\n",
    "# 도착방문지가 존재하는 경우\n",
    "end_exists = merged[merged['END_VISIT_AREA_ID'].notna()]\n",
    "\n",
    "missing_end_x = end_exists['도착방문지_X좌표'].isna().sum()\n",
    "missing_end_y = end_exists['도착방문지_Y좌표'].isna().sum()\n",
    "\n",
    "# 출력\n",
    "print(\"🚩 출발방문지 존재하는 경우:\")\n",
    "print(\"출발방문지_X좌표 결측치 수:\", missing_start_x)\n",
    "print(\"출발방문지_Y좌표 결측치 수:\", missing_start_y)\n",
    "\n",
    "print(\"\\n🏁 도착방문지 존재하는 경우:\")\n",
    "print(\"도착방문지_X좌표 결측치 수:\", missing_end_x)\n",
    "print(\"도착방문지_Y좌표 결측치 수:\", missing_end_y)"
   ]
  },
  {
   "cell_type": "code",
   "execution_count": 13,
   "id": "d684b85c",
   "metadata": {},
   "outputs": [
    {
     "name": "stdout",
     "output_type": "stream",
     "text": [
      "TRAVEL_ID  START_VISIT_AREA_ID  END_VISIT_AREA_ID TRAVEL_START_YMD TRAVEL_END_YMD MVMN_NM  출발방문지_순서   출발방문지_X좌표  출발방문지_Y좌표      출발방문지_POI_ID 출발방문지_POI_NM  도착방문지_순서   도착방문지_X좌표   도착방문지_Y좌표      도착방문지_POI_ID 도착방문지_POI_NM\n",
      "b_b008335                  NaN       2210230003.0       2022-10-22     2022-10-24  대중교통 등       NaN   129.05914  35.155237               NaN          NaN      14.0  126.848571   37.567152 POI01000000BYCVDP        보람아파트\n",
      "b_b008335                  NaN       2210230005.0       2022-10-22     2022-10-24  대중교통 등       NaN   129.05914  35.155237               NaN          NaN      12.0 126.9706069 37.55467884 POI01000000E9LWII    서울역버스환승센터\n",
      "b_b008335                  NaN       2210220009.0       2022-10-22     2022-10-24  대중교통 등       NaN   129.05914  35.155237               NaN          NaN       8.0 128.6465304 35.94498894               NaN          NaN\n",
      "b_b008335                  NaN       2210220012.0       2022-10-22     2022-10-24  대중교통 등       NaN   129.05914  35.155237               NaN          NaN       4.0 128.6283938 35.87932399 POI0100000070JU1H         동대구역\n",
      "b_b008335                  NaN       2210230004.0       2022-10-22     2022-10-24  대중교통 등       NaN   129.05914  35.155237               NaN          NaN      11.0 128.6283938 35.87932399 POI0100000070JU1H         동대구역\n",
      "b_b008335                  NaN       2210220011.0       2022-10-22     2022-10-24  대중교통 등       NaN   129.05914  35.155237               NaN          NaN       3.0 126.9706069 37.55467884 POI01000000E9LWII    서울역버스환승센터\n",
      "b_b008335         2210220001.0                NaN       2022-10-22     2022-10-24  대중교통 등       1.0  126.848571  37.567152 POI01000000BYCVDP        보람아파트       NaN   129.05914   35.155237               NaN          NaN\n",
      "b_b008335                  NaN       2210220005.0       2022-10-22     2022-10-24  대중교통 등       NaN   129.05914  35.155237               NaN          NaN       6.0 128.5687878 35.98074213               NaN          NaN\n",
      "b_b008335                  NaN       2210220003.0       2022-10-22     2022-10-24  대중교통 등       NaN   129.05914  35.155237               NaN          NaN       5.0 128.6465304 35.94498894               NaN          NaN\n",
      "b_b008335                  NaN       2210230001.0       2022-10-22     2022-10-24  대중교통 등       NaN   129.05914  35.155237               NaN          NaN       9.0  128.697257 36.02334223               NaN          NaN\n",
      "b_b008335                  NaN       2210220004.0       2022-10-22     2022-10-24  대중교통 등       NaN   129.05914  35.155237               NaN          NaN       7.0 128.6986092 35.96072647               NaN          NaN\n",
      "b_b008335                  NaN       2210220010.0       2022-10-22     2022-10-24  대중교통 등       NaN   129.05914  35.155237               NaN          NaN       2.0 126.8274959 37.56563153               NaN          NaN\n",
      "b_b008335                  NaN       2210230006.0       2022-10-22     2022-10-24  대중교통 등       NaN   129.05914  35.155237               NaN          NaN       NaN   129.05914   35.155237               NaN          NaN\n"
     ]
    }
   ],
   "source": [
    "# 보고 싶은 TRAVEL_ID 목록\n",
    "target_ids = ['b_b008335']\n",
    "\n",
    "# 해당 TRAVEL_ID의 행만 필터링\n",
    "sample_check = merged[merged['TRAVEL_ID'].isin(target_ids)]\n",
    "\n",
    "# 결과 미리보기\n",
    "pd.set_option('display.max_columns', None)  # 모든 컬럼 표시\n",
    "print(sample_check.to_string(index=False))"
   ]
  },
  {
   "cell_type": "code",
   "execution_count": 14,
   "id": "3c0f5e15",
   "metadata": {},
   "outputs": [
    {
     "name": "stdout",
     "output_type": "stream",
     "text": [
      "TRAVEL_ID  START_VISIT_AREA_ID  END_VISIT_AREA_ID TRAVEL_START_YMD TRAVEL_END_YMD MVMN_NM  출발방문지_순서   출발방문지_X좌표  출발방문지_Y좌표      출발방문지_POI_ID 출발방문지_POI_NM  도착방문지_순서   도착방문지_X좌표   도착방문지_Y좌표      도착방문지_POI_ID 도착방문지_POI_NM\n",
      "b_b005388                  NaN       2210090008.0       2022-10-09     2022-10-11  대중교통 등       NaN   129.05914  35.155237               NaN          NaN       2.0 126.8793103  35.1604031               NaN          NaN\n",
      "b_b005388                  NaN       2210100002.0       2022-10-09     2022-10-11  대중교통 등       NaN   129.05914  35.155237               NaN          NaN       9.0 129.0613749 35.15789927               NaN          NaN\n",
      "b_b005388                  NaN       2210090005.0       2022-10-09     2022-10-11  대중교통 등       NaN   129.05914  35.155237               NaN          NaN       5.0 129.1776963 35.15658074 POI010000006TBM2U        하이트빌라\n",
      "b_b005388                  NaN       2210090004.0       2022-10-09     2022-10-11  대중교통 등       NaN   129.05914  35.155237               NaN          NaN       4.0 129.1913665  35.1612228               NaN          NaN\n",
      "b_b005388                  NaN       2210100004.0       2022-10-09     2022-10-11  대중교통 등       NaN   129.05914  35.155237               NaN          NaN       NaN   129.05914   35.155237               NaN          NaN\n",
      "b_b005388                  NaN       2210100006.0       2022-10-09     2022-10-11  대중교통 등       NaN   129.05914  35.155237               NaN          NaN      13.0 129.1399362 35.16085305 POI010000006W03BC  제주4.3평화교육센터\n",
      "b_b005388                  NaN       2210090006.0       2022-10-09     2022-10-11  대중교통 등       NaN   129.05914  35.155237               NaN          NaN       6.0 129.1520211 35.15656482               NaN          NaN\n",
      "b_b005388                  NaN       2210090003.0       2022-10-09     2022-10-11  대중교통 등       NaN   129.05914  35.155237               NaN          NaN       3.0 129.0596067 35.15300631 POI01000000BY6TIM     용인시민체육공원\n",
      "b_b005388         2210090001.0                NaN       2022-10-09     2022-10-11  대중교통 등       1.0  126.934947  35.175676 POI01000000EFY0TG           아토       NaN   129.05914   35.155237               NaN          NaN\n",
      "b_b005388                  NaN       2210090007.0       2022-10-09     2022-10-11  대중교통 등       NaN   129.05914  35.155237               NaN          NaN       7.0 129.1516917 35.15893257               NaN          NaN\n",
      "b_b005388                  NaN       2210100007.0       2022-10-09     2022-10-11  대중교통 등       NaN   129.05914  35.155237               NaN          NaN      14.0 128.9825254 35.16323947               NaN          NaN\n",
      "b_b005388                  NaN       2210100005.0       2022-10-09     2022-10-11  대중교통 등       NaN   129.05914  35.155237               NaN          NaN      11.0 129.0673844 35.15285216               NaN          NaN\n",
      "b_b005388                  NaN       2210100001.0       2022-10-09     2022-10-11  대중교통 등       NaN   129.05914  35.155237               NaN          NaN      15.0   129.05914   35.155237               NaN          NaN\n",
      "b_b005388                  NaN       2210090002.0       2022-10-09     2022-10-11  대중교통 등       NaN   129.05914  35.155237               NaN          NaN       8.0  129.056283 35.15975662 POI0100000076CWHY         가당빌딩\n",
      "b_b005388                  NaN       2210100003.0       2022-10-09     2022-10-11  대중교통 등       NaN   129.05914  35.155237               NaN          NaN      10.0 129.0626839  35.1549437 POI010000006VWNAQ   동문시장고객지원센터\n"
     ]
    }
   ],
   "source": [
    "# 보고 싶은 TRAVEL_ID 목록\n",
    "target_ids = ['b_b005388']\n",
    "\n",
    "# 해당 TRAVEL_ID의 행만 필터링\n",
    "sample_check = merged[merged['TRAVEL_ID'].isin(target_ids)]\n",
    "\n",
    "# 결과 미리보기\n",
    "pd.set_option('display.max_columns', None)  # 모든 컬럼 표시\n",
    "print(sample_check.to_string(index=False))"
   ]
  },
  {
   "cell_type": "code",
   "execution_count": 15,
   "id": "94dbc8b9",
   "metadata": {},
   "outputs": [
    {
     "name": "stdout",
     "output_type": "stream",
     "text": [
      "TRAVEL_ID  START_VISIT_AREA_ID  END_VISIT_AREA_ID TRAVEL_START_YMD TRAVEL_END_YMD MVMN_NM  출발방문지_순서  출발방문지_X좌표  출발방문지_Y좌표 출발방문지_POI_ID 출발방문지_POI_NM  도착방문지_순서   도착방문지_X좌표   도착방문지_Y좌표      도착방문지_POI_ID 도착방문지_POI_NM\n",
      "b_b000617                  NaN       2208200001.0       2022-08-19     2022-08-22  대중교통 등       NaN  129.05914  35.155237          NaN          NaN      10.0 127.6343351  35.2028798               NaN          NaN\n",
      "b_b000617                  NaN       2208200003.0       2022-08-19     2022-08-22  대중교통 등       NaN  129.05914  35.155237          NaN          NaN      12.0 127.8916495  34.9779676               NaN          NaN\n",
      "b_b000617                  NaN       2208210003.0       2022-08-19     2022-08-22  대중교통 등       NaN  129.05914  35.155237          NaN          NaN      19.0 127.6246359 35.19247473 POI010000006YM5A1        성운각모텔\n",
      "b_b000617                  NaN       2208200006.0       2022-08-19     2022-08-22  대중교통 등       NaN  129.05914  35.155237          NaN          NaN      15.0   129.05914   35.155237               NaN          NaN\n",
      "b_b000617                  NaN       2208190002.0       2022-08-19     2022-08-22  대중교통 등       NaN  129.05914  35.155237          NaN          NaN       2.0 129.0601198 35.16465141 POI010000006TPSR3          부전역\n",
      "b_b000617                  NaN       2208200007.0       2022-08-19     2022-08-22  대중교통 등       NaN  129.05914  35.155237          NaN          NaN      16.0 127.6347349 35.20288492               NaN          NaN\n",
      "b_b000617                  NaN       2208200005.0       2022-08-19     2022-08-22  대중교통 등       NaN  129.05914  35.155237          NaN          NaN      14.0 127.7513392 35.07022577 POI01000000771NWU    하동농협하나로마트\n",
      "b_b000617                  NaN       2208210005.0       2022-08-19     2022-08-22  대중교통 등       NaN  129.05914  35.155237          NaN          NaN      21.0 127.7015676 35.24127322               NaN          NaN\n",
      "b_b000617                  NaN       2208210006.0       2022-08-19     2022-08-22  대중교통 등       NaN  129.05914  35.155237          NaN          NaN      22.0 127.7136048 35.09156322               NaN          NaN\n",
      "b_b000617                  NaN       2208210001.0       2022-08-19     2022-08-22  대중교통 등       NaN  129.05914  35.155237          NaN          NaN       NaN   129.05914   35.155237               NaN          NaN\n",
      "b_b000617         2208190001.0                NaN       2022-08-19     2022-08-22  대중교통 등       1.0  129.05914  35.155237          NaN          NaN       NaN   129.05914   35.155237               NaN          NaN\n",
      "b_b000617                  NaN       2208210008.0       2022-08-19     2022-08-22  대중교통 등       NaN  129.05914  35.155237          NaN          NaN      24.0   129.05914   35.155237               NaN          NaN\n",
      "b_b000617                  NaN       2208190003.0       2022-08-19     2022-08-22  대중교통 등       NaN  129.05914  35.155237          NaN          NaN       3.0 127.7618627 35.06394804 POI01000000EGCM0O          하동역\n",
      "b_b000617                  NaN       2208210002.0       2022-08-19     2022-08-22  대중교통 등       NaN  129.05914  35.155237          NaN          NaN      18.0 127.6242407 35.18789076               NaN          NaN\n",
      "b_b000617                  NaN       2208200002.0       2022-08-19     2022-08-22  대중교통 등       NaN  129.05914  35.155237          NaN          NaN      11.0 127.7869977 35.00727658 POI01000000771M2Z   강변원할매재첩회식당\n",
      "b_b000617                  NaN       2208190009.0       2022-08-19     2022-08-22  대중교통 등       NaN  129.05914  35.155237          NaN          NaN       9.0 127.6347349 35.20288492 POI01000000BG3CVX         마루펜션\n",
      "b_b000617                  NaN       2208200004.0       2022-08-19     2022-08-22  대중교통 등       NaN  129.05914  35.155237          NaN          NaN      13.0 127.8965215 34.98248353               NaN          NaN\n",
      "b_b000617                  NaN       2208190006.0       2022-08-19     2022-08-22  대중교통 등       NaN  129.05914  35.155237          NaN          NaN       6.0 127.6480034   35.218213 POI01000000CKRPPX         도심다원\n",
      "b_b000617                  NaN       2208210007.0       2022-08-19     2022-08-22  대중교통 등       NaN  129.05914  35.155237          NaN          NaN      23.0 127.7618627 35.06394804               NaN          NaN\n",
      "b_b000617                  NaN       2208190007.0       2022-08-19     2022-08-22  대중교통 등       NaN  129.05914  35.155237          NaN          NaN       7.0 127.7127432 35.15834324 POI010000006YM6KC         여명가든\n",
      "b_b000617                  NaN       2208190004.0       2022-08-19     2022-08-22  대중교통 등       NaN  129.05914  35.155237          NaN          NaN       4.0 127.7502897 35.06911459 POI01000000771O65       열다과외교실\n",
      "b_b000617                  NaN       2208210004.0       2022-08-19     2022-08-22  대중교통 등       NaN  129.05914  35.155237          NaN          NaN      20.0 127.6242274 35.19089589               NaN          NaN\n",
      "b_b000617                  NaN       2208190005.0       2022-08-19     2022-08-22  대중교통 등       NaN  129.05914  35.155237          NaN          NaN       5.0 127.7479551 35.06365153 POI01000000E1K6FG     방범용안전비상벨\n"
     ]
    }
   ],
   "source": [
    "# 보고 싶은 TRAVEL_ID 목록\n",
    "target_ids = ['b_b000617']\n",
    "\n",
    "# 해당 TRAVEL_ID의 행만 필터링\n",
    "sample_check = merged[merged['TRAVEL_ID'].isin(target_ids)]\n",
    "\n",
    "# 결과 미리보기\n",
    "pd.set_option('display.max_columns', None)  # 모든 컬럼 표시\n",
    "print(sample_check.to_string(index=False))"
   ]
  }
 ],
 "metadata": {
  "kernelspec": {
   "display_name": "base",
   "language": "python",
   "name": "python3"
  },
  "language_info": {
   "codemirror_mode": {
    "name": "ipython",
    "version": 3
   },
   "file_extension": ".py",
   "mimetype": "text/x-python",
   "name": "python",
   "nbconvert_exporter": "python",
   "pygments_lexer": "ipython3",
   "version": "3.12.7"
  }
 },
 "nbformat": 4,
 "nbformat_minor": 5
}
